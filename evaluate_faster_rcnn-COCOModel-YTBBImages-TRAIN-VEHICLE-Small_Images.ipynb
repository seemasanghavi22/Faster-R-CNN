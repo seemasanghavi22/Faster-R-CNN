{
 "cells": [
  {
   "cell_type": "code",
   "execution_count": 1,
   "metadata": {
    "ExecuteTime": {
     "end_time": "2020-05-02T08:35:49.442822Z",
     "start_time": "2020-05-02T08:35:42.758232Z"
    },
    "id": "nXorusKJIuq1"
   },
   "outputs": [],
   "source": [
    "from __future__ import division\n",
    "import os\n",
    "import cv2\n",
    "import numpy as np\n",
    "import sys\n",
    "import pickle\n",
    "import pandas as pd"
   ]
  },
  {
   "cell_type": "code",
   "execution_count": 2,
   "metadata": {},
   "outputs": [],
   "source": [
    "# pip install sklearn"
   ]
  },
  {
   "cell_type": "code",
   "execution_count": 3,
   "metadata": {
    "id": "CojK7FNrIuq4"
   },
   "outputs": [
    {
     "name": "stderr",
     "output_type": "stream",
     "text": [
      "Using TensorFlow backend.\n"
     ]
    }
   ],
   "source": [
    "import time\n",
    "import tensorflow as tf\n",
    "from tensorflow.compat.v1 import Session\n",
    "from keras_frcnn import config\n",
    "import keras_frcnn.resnet as nn\n",
    "from keras import backend as K\n",
    "from keras.layers import Input\n",
    "from keras.models import Model\n",
    "from keras_frcnn import roi_helpers\n",
    "from keras_frcnn import data_generators\n",
    "from sklearn.metrics import average_precision_score\n",
    "#from keras_frcnn import vgg as nn\n",
    "from keras_frcnn.simple_parser import get_data\n",
    "from keras_frcnn import resnet as nn"
   ]
  },
  {
   "cell_type": "code",
   "execution_count": 4,
   "metadata": {},
   "outputs": [
    {
     "name": "stdout",
     "output_type": "stream",
     "text": [
      "Device mapping:\n",
      "\n"
     ]
    }
   ],
   "source": [
    "config = tf.compat.v1.ConfigProto()\n",
    "config.gpu_options.allow_growth = True\n",
    "config.log_device_placement = True\n",
    "sess = Session(config=config)\n",
    "bck_end = tf.compat.v1.keras.backend\n",
    "bck_end.set_session(sess)"
   ]
  },
  {
   "cell_type": "code",
   "execution_count": 5,
   "metadata": {},
   "outputs": [],
   "source": [
    "def format_img_size(img, C):\n",
    "\t\"\"\" formats the image size based on config \"\"\"\n",
    "\timg_min_side = float(C.im_size)\n",
    "\t(height,width,_) = img.shape\n",
    "\t\t\n",
    "\tif width <= height:\n",
    "\t\tratio = img_min_side/width\n",
    "\t\tnew_height = int(ratio * height)\n",
    "\t\tnew_width = int(img_min_side)\n",
    "\telse:\n",
    "\t\tratio = img_min_side/height\n",
    "\t\tnew_width = int(ratio * width)\n",
    "\t\tnew_height = int(img_min_side)\n",
    "\timg = cv2.resize(img, (new_width, new_height), interpolation=cv2.INTER_CUBIC)\n",
    "\treturn img, ratio\t"
   ]
  },
  {
   "cell_type": "code",
   "execution_count": 6,
   "metadata": {},
   "outputs": [],
   "source": [
    "def format_img_channels(img, C):\n",
    "\t\"\"\" formats the image channels based on config \"\"\"\n",
    "\timg = img[:, :, (2, 1, 0)]\n",
    "\timg = img.astype(np.float32)\n",
    "\timg[:, :, 0] -= C.img_channel_mean[0]\n",
    "\timg[:, :, 1] -= C.img_channel_mean[1]\n",
    "\timg[:, :, 2] -= C.img_channel_mean[2]\n",
    "\timg /= C.img_scaling_factor\n",
    "\timg = np.transpose(img, (2, 0, 1))\n",
    "\timg = np.expand_dims(img, axis=0)\n",
    "\treturn img"
   ]
  },
  {
   "cell_type": "code",
   "execution_count": 7,
   "metadata": {},
   "outputs": [],
   "source": [
    "def format_img(img, C):\n",
    "\t\"\"\" formats an image for model prediction based on config \"\"\"\n",
    "\timg, ratio = format_img_size(img, C)\n",
    "\timg = format_img_channels(img, C)\n",
    "\treturn img, ratio"
   ]
  },
  {
   "cell_type": "code",
   "execution_count": 8,
   "metadata": {},
   "outputs": [],
   "source": [
    "# Method to transform the coordinates of the bounding box to its original size\n",
    "def get_real_coordinates(ratio, x1, y1, x2, y2):\n",
    "\n",
    "\treal_x1 = int(round(x1 // ratio))\n",
    "\treal_y1 = int(round(y1 // ratio))\n",
    "\treal_x2 = int(round(x2 // ratio))\n",
    "\treal_y2 = int(round(y2 // ratio))\n",
    "\n",
    "\treturn (real_x1, real_y1, real_x2 ,real_y2)"
   ]
  },
  {
   "cell_type": "code",
   "execution_count": 9,
   "metadata": {},
   "outputs": [],
   "source": [
    "def get_map(pred, gt, f):\n",
    "\tT = {}\n",
    "\tP = {}\n",
    "\tiou_result = 0\n",
    "\tfx, fy = f\n",
    "\n",
    "\tfor bbox in gt:\n",
    "\t\tbbox['bbox_matched'] = False\n",
    "\n",
    "\tpred_probs = np.array([s['prob'] for s in pred])\n",
    "\tprint(pred)\n",
    "\tprint(pred_probs)\n",
    "\tbox_idx_sorted_by_prob = np.argsort(pred_probs)[::-1]\n",
    "\n",
    "\tfor box_idx in box_idx_sorted_by_prob:\n",
    "\t\tpred_box = pred[box_idx]\n",
    "\t\tpred_class = pred_box['class']\n",
    "\t\tpred_x1 = pred_box['x1']\n",
    "\t\tpred_x2 = pred_box['x2']\n",
    "\t\tpred_y1 = pred_box['y1']\n",
    "\t\tpred_y2 = pred_box['y2']\n",
    "\t\tpred_prob = pred_box['prob']\n",
    "\t\tif pred_class not in P:\n",
    "\t\t\tP[pred_class] = []\n",
    "\t\t\tT[pred_class] = []\n",
    "\t\tP[pred_class].append(pred_prob)\n",
    "\t\tfound_match = False\n",
    "\n",
    "\t\tfor gt_box in gt:\n",
    "\t\t\tgt_class = gt_box['class']\n",
    "\t\t\tgt_x1 = gt_box['x1']/fx\n",
    "\t\t\tgt_x2 = gt_box['x2']/fx\n",
    "\t\t\tgt_y1 = gt_box['y1']/fy\n",
    "\t\t\tgt_y2 = gt_box['y2']/fy\n",
    "\t\t\tgt_seen = gt_box['bbox_matched']\n",
    "\t\t\tif gt_class != pred_class:\n",
    "\t\t\t\tcontinue\n",
    "\t\t\tif gt_seen:\n",
    "\t\t\t\tcontinue\n",
    "\t\t\tiou = 0\n",
    "\t\t\tiou = data_generators.iou((pred_x1, pred_y1, pred_x2, pred_y2), (gt_x1, gt_y1, gt_x2, gt_y2))\n",
    "\t\t\tiou_result += iou\n",
    "\t\t\tprint('IoU = ' + str(iou))\n",
    "\t\t\tif iou >= 0.5:\n",
    "\t\t\t\tfound_match = True\n",
    "\t\t\t\tgt_box['bbox_matched'] = True\n",
    "\t\t\t\tbreak\n",
    "\t\t\telse:\n",
    "\t\t\t\tcontinue\n",
    "\n",
    "\t\tT[pred_class].append(int(found_match))\n",
    "\tfor gt_box in gt:\n",
    "\t\tif not gt_box['bbox_matched']: # and not gt_box['difficult']:\n",
    "\t\t\tif gt_box['class'] not in P:\n",
    "\t\t\t\tP[gt_box['class']] = []\n",
    "\t\t\t\tT[gt_box['class']] = []\n",
    "\n",
    "\t\t\tT[gt_box['class']].append(1)\n",
    "\t\t\tP[gt_box['class']].append(0)\n",
    "\n",
    "\t#import pdb\n",
    "\t#pdb.set_trace()\n",
    "\treturn T, P, iou_result"
   ]
  },
  {
   "cell_type": "code",
   "execution_count": 10,
   "metadata": {},
   "outputs": [],
   "source": [
    "def format_img_config_based(img, C):\n",
    "\timg_min_side = float(C.im_size)\n",
    "\t(height,width,_) = img.shape\n",
    "\t\n",
    "\tif width <= height:\n",
    "\t\tf = img_min_side/width\n",
    "\t\tnew_height = int(f * height)\n",
    "\t\tnew_width = int(img_min_side)\n",
    "\telse:\n",
    "\t\tf = img_min_side/height\n",
    "\t\tnew_width = int(f * width)\n",
    "\t\tnew_height = int(img_min_side)\n",
    "\tfx = width/float(new_width)\n",
    "\tfy = height/float(new_height)\n",
    "\timg = cv2.resize(img, (new_width, new_height), interpolation=cv2.INTER_CUBIC)\n",
    "\timg = img[:, :, (2, 1, 0)]\n",
    "\timg = img.astype(np.float32)\n",
    "\timg[:, :, 0] -= C.img_channel_mean[0]\n",
    "\timg[:, :, 1] -= C.img_channel_mean[1]\n",
    "\timg[:, :, 2] -= C.img_channel_mean[2]\n",
    "\timg /= C.img_scaling_factor\n",
    "\timg = np.transpose(img, (2, 0, 1))\n",
    "\timg = np.expand_dims(img, axis=0)\n",
    "\treturn img, fx, fy"
   ]
  },
  {
   "cell_type": "code",
   "execution_count": 11,
   "metadata": {},
   "outputs": [],
   "source": [
    "#test_path = 'train_data'\n",
    "#test_path = 'COCO_extracted_dataset/train_for_test'\n",
    "test_path = 'y2bb_testing_SmallImage_Train_annotate.txt'\n",
    "img_path = test_path\n",
    "config_output_filename = \"./model_config_pickle/ytbb/y2bb_config_train_small_images.pickle\"\n",
    "\n",
    "if not test_path:   # if filename is not given\n",
    "\tparser.error('Error: path to test data must be specified. Pass --path to command line')\n",
    "    \n",
    "# Create a config object and set the values\n",
    "with open(config_output_filename, 'rb') as f_in:\n",
    "\tC = pickle.load(f_in)\n",
    "\n",
    "# turn off any data augmentation at test time\n",
    "C.use_horizontal_flips = False\n",
    "C.use_vertical_flips = False\n",
    "C.rot_90 = False"
   ]
  },
  {
   "cell_type": "code",
   "execution_count": 12,
   "metadata": {},
   "outputs": [],
   "source": [
    "class_mapping = C.class_mapping\n",
    "\n",
    "if 'bg' not in class_mapping:\n",
    "\tclass_mapping['bg'] = len(class_mapping)"
   ]
  },
  {
   "cell_type": "code",
   "execution_count": 13,
   "metadata": {},
   "outputs": [
    {
     "name": "stdout",
     "output_type": "stream",
     "text": [
      "{0: 'train', 1: 'bg'}\n"
     ]
    }
   ],
   "source": [
    "class_mapping = {v: k for k, v in class_mapping.items()}\n",
    "print(class_mapping)"
   ]
  },
  {
   "cell_type": "code",
   "execution_count": 14,
   "metadata": {},
   "outputs": [
    {
     "name": "stdout",
     "output_type": "stream",
     "text": [
      " num_roi = 32\n"
     ]
    }
   ],
   "source": [
    "class_to_color = {class_mapping[v]: np.random.randint(0, 255, 3) for v in class_mapping}\n",
    "print(f' num_roi = {C.num_rois}')"
   ]
  },
  {
   "cell_type": "code",
   "execution_count": 15,
   "metadata": {},
   "outputs": [
    {
     "name": "stdout",
     "output_type": "stream",
     "text": [
      " C.network = resnet50\n"
     ]
    }
   ],
   "source": [
    "if C.network == 'resnet50':\n",
    "\tnum_features = 1024\n",
    "print(f' C.network = {C.network}')"
   ]
  },
  {
   "cell_type": "code",
   "execution_count": 16,
   "metadata": {},
   "outputs": [],
   "source": [
    "if K.common.image_dim_ordering() == 'th':\n",
    "\tinput_shape_img = (3, None, None)\n",
    "\tinput_shape_features = (num_features, None, None)\n",
    "else:\n",
    "\tinput_shape_img = (None, None, 3)\n",
    "\tinput_shape_features = (None, None, num_features)"
   ]
  },
  {
   "cell_type": "code",
   "execution_count": 17,
   "metadata": {},
   "outputs": [
    {
     "data": {
      "text/plain": [
       "<tf.Tensor 'input_1:0' shape=(None, None, None, 3) dtype=float32>"
      ]
     },
     "execution_count": 17,
     "metadata": {},
     "output_type": "execute_result"
    }
   ],
   "source": [
    "img_input = Input(shape=input_shape_img)\n",
    "img_input"
   ]
  },
  {
   "cell_type": "code",
   "execution_count": 18,
   "metadata": {},
   "outputs": [
    {
     "data": {
      "text/plain": [
       "<tf.Tensor 'input_2:0' shape=(None, 32, 4) dtype=float32>"
      ]
     },
     "execution_count": 18,
     "metadata": {},
     "output_type": "execute_result"
    }
   ],
   "source": [
    "roi_input = Input(shape=(C.num_rois, 4))\n",
    "roi_input"
   ]
  },
  {
   "cell_type": "code",
   "execution_count": 19,
   "metadata": {},
   "outputs": [
    {
     "data": {
      "text/plain": [
       "<tf.Tensor 'input_3:0' shape=(None, None, None, 1024) dtype=float32>"
      ]
     },
     "execution_count": 19,
     "metadata": {},
     "output_type": "execute_result"
    }
   ],
   "source": [
    "feature_map_input = Input(shape=input_shape_features)\n",
    "feature_map_input"
   ]
  },
  {
   "cell_type": "code",
   "execution_count": 20,
   "metadata": {},
   "outputs": [],
   "source": [
    "# define the base network (resnet here, can be VGG, Inception, etc)\n",
    "shared_layers = nn.nn_base(img_input, trainable=True)"
   ]
  },
  {
   "cell_type": "code",
   "execution_count": 21,
   "metadata": {},
   "outputs": [
    {
     "data": {
      "text/plain": [
       "9"
      ]
     },
     "execution_count": 21,
     "metadata": {},
     "output_type": "execute_result"
    }
   ],
   "source": [
    "# define the RPN, built on the base layers\n",
    "num_anchors = len(C.anchor_box_scales) * len(C.anchor_box_ratios)\n",
    "num_anchors"
   ]
  },
  {
   "cell_type": "code",
   "execution_count": 22,
   "metadata": {},
   "outputs": [
    {
     "data": {
      "text/plain": [
       "[<tf.Tensor 'rpn_out_class/Sigmoid:0' shape=(None, None, None, 9) dtype=float32>,\n",
       " <tf.Tensor 'rpn_out_regress/BiasAdd:0' shape=(None, None, None, 36) dtype=float32>,\n",
       " <tf.Tensor 'activation_40/Relu:0' shape=(None, None, None, 1024) dtype=float32>]"
      ]
     },
     "execution_count": 22,
     "metadata": {},
     "output_type": "execute_result"
    }
   ],
   "source": [
    "rpn_layers = nn.rpn(shared_layers, num_anchors)\n",
    "rpn_layers"
   ]
  },
  {
   "cell_type": "code",
   "execution_count": 23,
   "metadata": {},
   "outputs": [],
   "source": [
    "classifier = nn.classifier(feature_map_input, roi_input, C.num_rois, nb_classes=len(class_mapping), trainable=True)"
   ]
  },
  {
   "cell_type": "code",
   "execution_count": 24,
   "metadata": {},
   "outputs": [
    {
     "data": {
      "text/plain": [
       "{0: 'train', 1: 'bg'}"
      ]
     },
     "execution_count": 24,
     "metadata": {},
     "output_type": "execute_result"
    }
   ],
   "source": [
    "class_mapping"
   ]
  },
  {
   "cell_type": "code",
   "execution_count": 25,
   "metadata": {},
   "outputs": [],
   "source": [
    "model_rpn = Model(img_input, rpn_layers)\n",
    "model_classifier_only = Model([feature_map_input, roi_input], classifier)\n",
    "model_classifier = Model([feature_map_input, roi_input], classifier)"
   ]
  },
  {
   "cell_type": "markdown",
   "metadata": {},
   "source": [
    "#### Evaluation results for COCO-YTBB with 5 epoch trained weights @Iou 50% and 75%"
   ]
  },
  {
   "cell_type": "code",
   "execution_count": 26,
   "metadata": {},
   "outputs": [
    {
     "name": "stdout",
     "output_type": "stream",
     "text": [
      "Loading weights from ./model_weights/COCO/coco_model_frcnn_train_vehicle_v1_0004.hdf5\n"
     ]
    }
   ],
   "source": [
    "try:\n",
    "\tC.model_path = './model_weights/COCO/coco_model_frcnn_train_vehicle_v1_0004.hdf5'\n",
    "\tprint(f'Loading weights from {C.model_path}')\n",
    "\tmodel_rpn.load_weights(C.model_path, by_name=True)\n",
    "\tmodel_classifier.load_weights(C.model_path, by_name=True)    \n",
    "\t#model_rpn.load_weights('./resnet50_weights_tf_dim_ordering_tf_kernels_notop.h5', by_name=True)\n",
    "\t#model_classifier.load_weights('./resnet50_weights_tf_dim_ordering_tf_kernels_notop.h5', by_name=True)\n",
    "except Exception as e:\n",
    "\tprint(f'Couldnt load pre-trained model due to {repr(e)}')"
   ]
  },
  {
   "cell_type": "code",
   "execution_count": 27,
   "metadata": {},
   "outputs": [],
   "source": [
    "model_rpn.compile(optimizer='sgd', loss='mse')\n",
    "model_classifier_only.compile(optimizer='sgd', loss='mse')\n",
    "model_classifier.compile(optimizer='sgd', loss='mse')"
   ]
  },
  {
   "cell_type": "code",
   "execution_count": 28,
   "metadata": {},
   "outputs": [
    {
     "name": "stdout",
     "output_type": "stream",
     "text": [
      "Model: \"model_1\"\n",
      "__________________________________________________________________________________________________\n",
      "Layer (type)                    Output Shape         Param #     Connected to                     \n",
      "==================================================================================================\n",
      "input_1 (InputLayer)            (None, None, None, 3 0                                            \n",
      "__________________________________________________________________________________________________\n",
      "zero_padding2d_1 (ZeroPadding2D (None, None, None, 3 0           input_1[0][0]                    \n",
      "__________________________________________________________________________________________________\n",
      "conv1 (Conv2D)                  (None, None, None, 6 9472        zero_padding2d_1[0][0]           \n",
      "__________________________________________________________________________________________________\n",
      "bn_conv1 (FixedBatchNormalizati (None, None, None, 6 256         conv1[0][0]                      \n",
      "__________________________________________________________________________________________________\n",
      "activation_1 (Activation)       (None, None, None, 6 0           bn_conv1[0][0]                   \n",
      "__________________________________________________________________________________________________\n",
      "max_pooling2d_1 (MaxPooling2D)  (None, None, None, 6 0           activation_1[0][0]               \n",
      "__________________________________________________________________________________________________\n",
      "res2a_branch2a (Conv2D)         (None, None, None, 6 4160        max_pooling2d_1[0][0]            \n",
      "__________________________________________________________________________________________________\n",
      "bn2a_branch2a (FixedBatchNormal (None, None, None, 6 256         res2a_branch2a[0][0]             \n",
      "__________________________________________________________________________________________________\n",
      "activation_2 (Activation)       (None, None, None, 6 0           bn2a_branch2a[0][0]              \n",
      "__________________________________________________________________________________________________\n",
      "res2a_branch2b (Conv2D)         (None, None, None, 6 36928       activation_2[0][0]               \n",
      "__________________________________________________________________________________________________\n",
      "bn2a_branch2b (FixedBatchNormal (None, None, None, 6 256         res2a_branch2b[0][0]             \n",
      "__________________________________________________________________________________________________\n",
      "activation_3 (Activation)       (None, None, None, 6 0           bn2a_branch2b[0][0]              \n",
      "__________________________________________________________________________________________________\n",
      "res2a_branch2c (Conv2D)         (None, None, None, 2 16640       activation_3[0][0]               \n",
      "__________________________________________________________________________________________________\n",
      "res2a_branch1 (Conv2D)          (None, None, None, 2 16640       max_pooling2d_1[0][0]            \n",
      "__________________________________________________________________________________________________\n",
      "bn2a_branch2c (FixedBatchNormal (None, None, None, 2 1024        res2a_branch2c[0][0]             \n",
      "__________________________________________________________________________________________________\n",
      "bn2a_branch1 (FixedBatchNormali (None, None, None, 2 1024        res2a_branch1[0][0]              \n",
      "__________________________________________________________________________________________________\n",
      "add_1 (Add)                     (None, None, None, 2 0           bn2a_branch2c[0][0]              \n",
      "                                                                 bn2a_branch1[0][0]               \n",
      "__________________________________________________________________________________________________\n",
      "activation_4 (Activation)       (None, None, None, 2 0           add_1[0][0]                      \n",
      "__________________________________________________________________________________________________\n",
      "res2b_branch2a (Conv2D)         (None, None, None, 6 16448       activation_4[0][0]               \n",
      "__________________________________________________________________________________________________\n",
      "bn2b_branch2a (FixedBatchNormal (None, None, None, 6 256         res2b_branch2a[0][0]             \n",
      "__________________________________________________________________________________________________\n",
      "activation_5 (Activation)       (None, None, None, 6 0           bn2b_branch2a[0][0]              \n",
      "__________________________________________________________________________________________________\n",
      "res2b_branch2b (Conv2D)         (None, None, None, 6 36928       activation_5[0][0]               \n",
      "__________________________________________________________________________________________________\n",
      "bn2b_branch2b (FixedBatchNormal (None, None, None, 6 256         res2b_branch2b[0][0]             \n",
      "__________________________________________________________________________________________________\n",
      "activation_6 (Activation)       (None, None, None, 6 0           bn2b_branch2b[0][0]              \n",
      "__________________________________________________________________________________________________\n",
      "res2b_branch2c (Conv2D)         (None, None, None, 2 16640       activation_6[0][0]               \n",
      "__________________________________________________________________________________________________\n",
      "bn2b_branch2c (FixedBatchNormal (None, None, None, 2 1024        res2b_branch2c[0][0]             \n",
      "__________________________________________________________________________________________________\n",
      "add_2 (Add)                     (None, None, None, 2 0           bn2b_branch2c[0][0]              \n",
      "                                                                 activation_4[0][0]               \n",
      "__________________________________________________________________________________________________\n",
      "activation_7 (Activation)       (None, None, None, 2 0           add_2[0][0]                      \n",
      "__________________________________________________________________________________________________\n",
      "res2c_branch2a (Conv2D)         (None, None, None, 6 16448       activation_7[0][0]               \n",
      "__________________________________________________________________________________________________\n",
      "bn2c_branch2a (FixedBatchNormal (None, None, None, 6 256         res2c_branch2a[0][0]             \n",
      "__________________________________________________________________________________________________\n",
      "activation_8 (Activation)       (None, None, None, 6 0           bn2c_branch2a[0][0]              \n",
      "__________________________________________________________________________________________________\n",
      "res2c_branch2b (Conv2D)         (None, None, None, 6 36928       activation_8[0][0]               \n",
      "__________________________________________________________________________________________________\n",
      "bn2c_branch2b (FixedBatchNormal (None, None, None, 6 256         res2c_branch2b[0][0]             \n",
      "__________________________________________________________________________________________________\n",
      "activation_9 (Activation)       (None, None, None, 6 0           bn2c_branch2b[0][0]              \n",
      "__________________________________________________________________________________________________\n",
      "res2c_branch2c (Conv2D)         (None, None, None, 2 16640       activation_9[0][0]               \n",
      "__________________________________________________________________________________________________\n",
      "bn2c_branch2c (FixedBatchNormal (None, None, None, 2 1024        res2c_branch2c[0][0]             \n",
      "__________________________________________________________________________________________________\n",
      "add_3 (Add)                     (None, None, None, 2 0           bn2c_branch2c[0][0]              \n",
      "                                                                 activation_7[0][0]               \n",
      "__________________________________________________________________________________________________\n",
      "activation_10 (Activation)      (None, None, None, 2 0           add_3[0][0]                      \n",
      "__________________________________________________________________________________________________\n",
      "res3a_branch2a (Conv2D)         (None, None, None, 1 32896       activation_10[0][0]              \n",
      "__________________________________________________________________________________________________\n",
      "bn3a_branch2a (FixedBatchNormal (None, None, None, 1 512         res3a_branch2a[0][0]             \n",
      "__________________________________________________________________________________________________\n",
      "activation_11 (Activation)      (None, None, None, 1 0           bn3a_branch2a[0][0]              \n",
      "__________________________________________________________________________________________________\n",
      "res3a_branch2b (Conv2D)         (None, None, None, 1 147584      activation_11[0][0]              \n",
      "__________________________________________________________________________________________________\n",
      "bn3a_branch2b (FixedBatchNormal (None, None, None, 1 512         res3a_branch2b[0][0]             \n",
      "__________________________________________________________________________________________________\n",
      "activation_12 (Activation)      (None, None, None, 1 0           bn3a_branch2b[0][0]              \n",
      "__________________________________________________________________________________________________\n",
      "res3a_branch2c (Conv2D)         (None, None, None, 5 66048       activation_12[0][0]              \n",
      "__________________________________________________________________________________________________\n",
      "res3a_branch1 (Conv2D)          (None, None, None, 5 131584      activation_10[0][0]              \n",
      "__________________________________________________________________________________________________\n",
      "bn3a_branch2c (FixedBatchNormal (None, None, None, 5 2048        res3a_branch2c[0][0]             \n",
      "__________________________________________________________________________________________________\n",
      "bn3a_branch1 (FixedBatchNormali (None, None, None, 5 2048        res3a_branch1[0][0]              \n",
      "__________________________________________________________________________________________________\n",
      "add_4 (Add)                     (None, None, None, 5 0           bn3a_branch2c[0][0]              \n",
      "                                                                 bn3a_branch1[0][0]               \n",
      "__________________________________________________________________________________________________\n",
      "activation_13 (Activation)      (None, None, None, 5 0           add_4[0][0]                      \n",
      "__________________________________________________________________________________________________\n",
      "res3b_branch2a (Conv2D)         (None, None, None, 1 65664       activation_13[0][0]              \n",
      "__________________________________________________________________________________________________\n",
      "bn3b_branch2a (FixedBatchNormal (None, None, None, 1 512         res3b_branch2a[0][0]             \n",
      "__________________________________________________________________________________________________\n",
      "activation_14 (Activation)      (None, None, None, 1 0           bn3b_branch2a[0][0]              \n",
      "__________________________________________________________________________________________________\n",
      "res3b_branch2b (Conv2D)         (None, None, None, 1 147584      activation_14[0][0]              \n",
      "__________________________________________________________________________________________________\n",
      "bn3b_branch2b (FixedBatchNormal (None, None, None, 1 512         res3b_branch2b[0][0]             \n",
      "__________________________________________________________________________________________________\n",
      "activation_15 (Activation)      (None, None, None, 1 0           bn3b_branch2b[0][0]              \n",
      "__________________________________________________________________________________________________\n",
      "res3b_branch2c (Conv2D)         (None, None, None, 5 66048       activation_15[0][0]              \n",
      "__________________________________________________________________________________________________\n",
      "bn3b_branch2c (FixedBatchNormal (None, None, None, 5 2048        res3b_branch2c[0][0]             \n",
      "__________________________________________________________________________________________________\n",
      "add_5 (Add)                     (None, None, None, 5 0           bn3b_branch2c[0][0]              \n",
      "                                                                 activation_13[0][0]              \n",
      "__________________________________________________________________________________________________\n",
      "activation_16 (Activation)      (None, None, None, 5 0           add_5[0][0]                      \n",
      "__________________________________________________________________________________________________\n",
      "res3c_branch2a (Conv2D)         (None, None, None, 1 65664       activation_16[0][0]              \n",
      "__________________________________________________________________________________________________\n",
      "bn3c_branch2a (FixedBatchNormal (None, None, None, 1 512         res3c_branch2a[0][0]             \n",
      "__________________________________________________________________________________________________\n",
      "activation_17 (Activation)      (None, None, None, 1 0           bn3c_branch2a[0][0]              \n",
      "__________________________________________________________________________________________________\n",
      "res3c_branch2b (Conv2D)         (None, None, None, 1 147584      activation_17[0][0]              \n",
      "__________________________________________________________________________________________________\n",
      "bn3c_branch2b (FixedBatchNormal (None, None, None, 1 512         res3c_branch2b[0][0]             \n",
      "__________________________________________________________________________________________________\n",
      "activation_18 (Activation)      (None, None, None, 1 0           bn3c_branch2b[0][0]              \n",
      "__________________________________________________________________________________________________\n",
      "res3c_branch2c (Conv2D)         (None, None, None, 5 66048       activation_18[0][0]              \n",
      "__________________________________________________________________________________________________\n",
      "bn3c_branch2c (FixedBatchNormal (None, None, None, 5 2048        res3c_branch2c[0][0]             \n",
      "__________________________________________________________________________________________________\n",
      "add_6 (Add)                     (None, None, None, 5 0           bn3c_branch2c[0][0]              \n",
      "                                                                 activation_16[0][0]              \n",
      "__________________________________________________________________________________________________\n",
      "activation_19 (Activation)      (None, None, None, 5 0           add_6[0][0]                      \n",
      "__________________________________________________________________________________________________\n",
      "res3d_branch2a (Conv2D)         (None, None, None, 1 65664       activation_19[0][0]              \n",
      "__________________________________________________________________________________________________\n",
      "bn3d_branch2a (FixedBatchNormal (None, None, None, 1 512         res3d_branch2a[0][0]             \n",
      "__________________________________________________________________________________________________\n",
      "activation_20 (Activation)      (None, None, None, 1 0           bn3d_branch2a[0][0]              \n",
      "__________________________________________________________________________________________________\n",
      "res3d_branch2b (Conv2D)         (None, None, None, 1 147584      activation_20[0][0]              \n",
      "__________________________________________________________________________________________________\n",
      "bn3d_branch2b (FixedBatchNormal (None, None, None, 1 512         res3d_branch2b[0][0]             \n",
      "__________________________________________________________________________________________________\n",
      "activation_21 (Activation)      (None, None, None, 1 0           bn3d_branch2b[0][0]              \n",
      "__________________________________________________________________________________________________\n",
      "res3d_branch2c (Conv2D)         (None, None, None, 5 66048       activation_21[0][0]              \n",
      "__________________________________________________________________________________________________\n",
      "bn3d_branch2c (FixedBatchNormal (None, None, None, 5 2048        res3d_branch2c[0][0]             \n",
      "__________________________________________________________________________________________________\n",
      "add_7 (Add)                     (None, None, None, 5 0           bn3d_branch2c[0][0]              \n",
      "                                                                 activation_19[0][0]              \n",
      "__________________________________________________________________________________________________\n",
      "activation_22 (Activation)      (None, None, None, 5 0           add_7[0][0]                      \n",
      "__________________________________________________________________________________________________\n",
      "res4a_branch2a (Conv2D)         (None, None, None, 2 131328      activation_22[0][0]              \n",
      "__________________________________________________________________________________________________\n",
      "bn4a_branch2a (FixedBatchNormal (None, None, None, 2 1024        res4a_branch2a[0][0]             \n",
      "__________________________________________________________________________________________________\n",
      "activation_23 (Activation)      (None, None, None, 2 0           bn4a_branch2a[0][0]              \n",
      "__________________________________________________________________________________________________\n",
      "res4a_branch2b (Conv2D)         (None, None, None, 2 590080      activation_23[0][0]              \n",
      "__________________________________________________________________________________________________\n",
      "bn4a_branch2b (FixedBatchNormal (None, None, None, 2 1024        res4a_branch2b[0][0]             \n",
      "__________________________________________________________________________________________________\n",
      "activation_24 (Activation)      (None, None, None, 2 0           bn4a_branch2b[0][0]              \n",
      "__________________________________________________________________________________________________\n",
      "res4a_branch2c (Conv2D)         (None, None, None, 1 263168      activation_24[0][0]              \n",
      "__________________________________________________________________________________________________\n",
      "res4a_branch1 (Conv2D)          (None, None, None, 1 525312      activation_22[0][0]              \n",
      "__________________________________________________________________________________________________\n",
      "bn4a_branch2c (FixedBatchNormal (None, None, None, 1 4096        res4a_branch2c[0][0]             \n",
      "__________________________________________________________________________________________________\n",
      "bn4a_branch1 (FixedBatchNormali (None, None, None, 1 4096        res4a_branch1[0][0]              \n",
      "__________________________________________________________________________________________________\n",
      "add_8 (Add)                     (None, None, None, 1 0           bn4a_branch2c[0][0]              \n",
      "                                                                 bn4a_branch1[0][0]               \n",
      "__________________________________________________________________________________________________\n",
      "activation_25 (Activation)      (None, None, None, 1 0           add_8[0][0]                      \n",
      "__________________________________________________________________________________________________\n",
      "res4b_branch2a (Conv2D)         (None, None, None, 2 262400      activation_25[0][0]              \n",
      "__________________________________________________________________________________________________\n",
      "bn4b_branch2a (FixedBatchNormal (None, None, None, 2 1024        res4b_branch2a[0][0]             \n",
      "__________________________________________________________________________________________________\n",
      "activation_26 (Activation)      (None, None, None, 2 0           bn4b_branch2a[0][0]              \n",
      "__________________________________________________________________________________________________\n",
      "res4b_branch2b (Conv2D)         (None, None, None, 2 590080      activation_26[0][0]              \n",
      "__________________________________________________________________________________________________\n",
      "bn4b_branch2b (FixedBatchNormal (None, None, None, 2 1024        res4b_branch2b[0][0]             \n",
      "__________________________________________________________________________________________________\n",
      "activation_27 (Activation)      (None, None, None, 2 0           bn4b_branch2b[0][0]              \n",
      "__________________________________________________________________________________________________\n",
      "res4b_branch2c (Conv2D)         (None, None, None, 1 263168      activation_27[0][0]              \n",
      "__________________________________________________________________________________________________\n",
      "bn4b_branch2c (FixedBatchNormal (None, None, None, 1 4096        res4b_branch2c[0][0]             \n",
      "__________________________________________________________________________________________________\n",
      "add_9 (Add)                     (None, None, None, 1 0           bn4b_branch2c[0][0]              \n",
      "                                                                 activation_25[0][0]              \n",
      "__________________________________________________________________________________________________\n",
      "activation_28 (Activation)      (None, None, None, 1 0           add_9[0][0]                      \n",
      "__________________________________________________________________________________________________\n",
      "res4c_branch2a (Conv2D)         (None, None, None, 2 262400      activation_28[0][0]              \n",
      "__________________________________________________________________________________________________\n",
      "bn4c_branch2a (FixedBatchNormal (None, None, None, 2 1024        res4c_branch2a[0][0]             \n",
      "__________________________________________________________________________________________________\n",
      "activation_29 (Activation)      (None, None, None, 2 0           bn4c_branch2a[0][0]              \n",
      "__________________________________________________________________________________________________\n",
      "res4c_branch2b (Conv2D)         (None, None, None, 2 590080      activation_29[0][0]              \n",
      "__________________________________________________________________________________________________\n",
      "bn4c_branch2b (FixedBatchNormal (None, None, None, 2 1024        res4c_branch2b[0][0]             \n",
      "__________________________________________________________________________________________________\n",
      "activation_30 (Activation)      (None, None, None, 2 0           bn4c_branch2b[0][0]              \n",
      "__________________________________________________________________________________________________\n",
      "res4c_branch2c (Conv2D)         (None, None, None, 1 263168      activation_30[0][0]              \n",
      "__________________________________________________________________________________________________\n",
      "bn4c_branch2c (FixedBatchNormal (None, None, None, 1 4096        res4c_branch2c[0][0]             \n",
      "__________________________________________________________________________________________________\n",
      "add_10 (Add)                    (None, None, None, 1 0           bn4c_branch2c[0][0]              \n",
      "                                                                 activation_28[0][0]              \n",
      "__________________________________________________________________________________________________\n",
      "activation_31 (Activation)      (None, None, None, 1 0           add_10[0][0]                     \n",
      "__________________________________________________________________________________________________\n",
      "res4d_branch2a (Conv2D)         (None, None, None, 2 262400      activation_31[0][0]              \n",
      "__________________________________________________________________________________________________\n",
      "bn4d_branch2a (FixedBatchNormal (None, None, None, 2 1024        res4d_branch2a[0][0]             \n",
      "__________________________________________________________________________________________________\n",
      "activation_32 (Activation)      (None, None, None, 2 0           bn4d_branch2a[0][0]              \n",
      "__________________________________________________________________________________________________\n",
      "res4d_branch2b (Conv2D)         (None, None, None, 2 590080      activation_32[0][0]              \n",
      "__________________________________________________________________________________________________\n",
      "bn4d_branch2b (FixedBatchNormal (None, None, None, 2 1024        res4d_branch2b[0][0]             \n",
      "__________________________________________________________________________________________________\n",
      "activation_33 (Activation)      (None, None, None, 2 0           bn4d_branch2b[0][0]              \n",
      "__________________________________________________________________________________________________\n",
      "res4d_branch2c (Conv2D)         (None, None, None, 1 263168      activation_33[0][0]              \n",
      "__________________________________________________________________________________________________\n",
      "bn4d_branch2c (FixedBatchNormal (None, None, None, 1 4096        res4d_branch2c[0][0]             \n",
      "__________________________________________________________________________________________________\n",
      "add_11 (Add)                    (None, None, None, 1 0           bn4d_branch2c[0][0]              \n",
      "                                                                 activation_31[0][0]              \n",
      "__________________________________________________________________________________________________\n",
      "activation_34 (Activation)      (None, None, None, 1 0           add_11[0][0]                     \n",
      "__________________________________________________________________________________________________\n",
      "res4e_branch2a (Conv2D)         (None, None, None, 2 262400      activation_34[0][0]              \n",
      "__________________________________________________________________________________________________\n",
      "bn4e_branch2a (FixedBatchNormal (None, None, None, 2 1024        res4e_branch2a[0][0]             \n",
      "__________________________________________________________________________________________________\n",
      "activation_35 (Activation)      (None, None, None, 2 0           bn4e_branch2a[0][0]              \n",
      "__________________________________________________________________________________________________\n",
      "res4e_branch2b (Conv2D)         (None, None, None, 2 590080      activation_35[0][0]              \n",
      "__________________________________________________________________________________________________\n",
      "bn4e_branch2b (FixedBatchNormal (None, None, None, 2 1024        res4e_branch2b[0][0]             \n",
      "__________________________________________________________________________________________________\n",
      "activation_36 (Activation)      (None, None, None, 2 0           bn4e_branch2b[0][0]              \n",
      "__________________________________________________________________________________________________\n",
      "res4e_branch2c (Conv2D)         (None, None, None, 1 263168      activation_36[0][0]              \n",
      "__________________________________________________________________________________________________\n",
      "bn4e_branch2c (FixedBatchNormal (None, None, None, 1 4096        res4e_branch2c[0][0]             \n",
      "__________________________________________________________________________________________________\n",
      "add_12 (Add)                    (None, None, None, 1 0           bn4e_branch2c[0][0]              \n",
      "                                                                 activation_34[0][0]              \n",
      "__________________________________________________________________________________________________\n",
      "activation_37 (Activation)      (None, None, None, 1 0           add_12[0][0]                     \n",
      "__________________________________________________________________________________________________\n",
      "res4f_branch2a (Conv2D)         (None, None, None, 2 262400      activation_37[0][0]              \n",
      "__________________________________________________________________________________________________\n",
      "bn4f_branch2a (FixedBatchNormal (None, None, None, 2 1024        res4f_branch2a[0][0]             \n",
      "__________________________________________________________________________________________________\n",
      "activation_38 (Activation)      (None, None, None, 2 0           bn4f_branch2a[0][0]              \n",
      "__________________________________________________________________________________________________\n",
      "res4f_branch2b (Conv2D)         (None, None, None, 2 590080      activation_38[0][0]              \n",
      "__________________________________________________________________________________________________\n",
      "bn4f_branch2b (FixedBatchNormal (None, None, None, 2 1024        res4f_branch2b[0][0]             \n",
      "__________________________________________________________________________________________________\n",
      "activation_39 (Activation)      (None, None, None, 2 0           bn4f_branch2b[0][0]              \n",
      "__________________________________________________________________________________________________\n",
      "res4f_branch2c (Conv2D)         (None, None, None, 1 263168      activation_39[0][0]              \n",
      "__________________________________________________________________________________________________\n",
      "bn4f_branch2c (FixedBatchNormal (None, None, None, 1 4096        res4f_branch2c[0][0]             \n",
      "__________________________________________________________________________________________________\n",
      "add_13 (Add)                    (None, None, None, 1 0           bn4f_branch2c[0][0]              \n",
      "                                                                 activation_37[0][0]              \n",
      "__________________________________________________________________________________________________\n",
      "activation_40 (Activation)      (None, None, None, 1 0           add_13[0][0]                     \n",
      "__________________________________________________________________________________________________\n",
      "rpn_conv1 (Conv2D)              (None, None, None, 5 4719104     activation_40[0][0]              \n",
      "__________________________________________________________________________________________________\n",
      "rpn_out_class (Conv2D)          (None, None, None, 9 4617        rpn_conv1[0][0]                  \n",
      "__________________________________________________________________________________________________\n",
      "rpn_out_regress (Conv2D)        (None, None, None, 3 18468       rpn_conv1[0][0]                  \n",
      "==================================================================================================\n",
      "Total params: 13,331,373\n",
      "Trainable params: 13,270,189\n",
      "Non-trainable params: 61,184\n",
      "__________________________________________________________________________________________________\n"
     ]
    }
   ],
   "source": [
    "model_rpn.summary()"
   ]
  },
  {
   "cell_type": "code",
   "execution_count": 29,
   "metadata": {},
   "outputs": [
    {
     "name": "stdout",
     "output_type": "stream",
     "text": [
      "Model: \"model_3\"\n",
      "__________________________________________________________________________________________________\n",
      "Layer (type)                    Output Shape         Param #     Connected to                     \n",
      "==================================================================================================\n",
      "input_3 (InputLayer)            (None, None, None, 1 0                                            \n",
      "__________________________________________________________________________________________________\n",
      "input_2 (InputLayer)            (None, 32, 4)        0                                            \n",
      "__________________________________________________________________________________________________\n",
      "roi_pooling_conv_1 (RoiPoolingC (None, 32, 14, 14, 1 0           input_3[0][0]                    \n",
      "                                                                 input_2[0][0]                    \n",
      "__________________________________________________________________________________________________\n",
      "res5a_branch2a (TimeDistributed (None, 32, 7, 7, 512 524800      roi_pooling_conv_1[0][0]         \n",
      "__________________________________________________________________________________________________\n",
      "bn5a_branch2a (TimeDistributed) (None, 32, 7, 7, 512 2048        res5a_branch2a[0][0]             \n",
      "__________________________________________________________________________________________________\n",
      "activation_41 (Activation)      (None, 32, 7, 7, 512 0           bn5a_branch2a[0][0]              \n",
      "__________________________________________________________________________________________________\n",
      "res5a_branch2b (TimeDistributed (None, 32, 7, 7, 512 2359808     activation_41[0][0]              \n",
      "__________________________________________________________________________________________________\n",
      "bn5a_branch2b (TimeDistributed) (None, 32, 7, 7, 512 2048        res5a_branch2b[0][0]             \n",
      "__________________________________________________________________________________________________\n",
      "activation_42 (Activation)      (None, 32, 7, 7, 512 0           bn5a_branch2b[0][0]              \n",
      "__________________________________________________________________________________________________\n",
      "res5a_branch2c (TimeDistributed (None, 32, 7, 7, 204 1050624     activation_42[0][0]              \n",
      "__________________________________________________________________________________________________\n",
      "res5a_branch1 (TimeDistributed) (None, 32, 7, 7, 204 2099200     roi_pooling_conv_1[0][0]         \n",
      "__________________________________________________________________________________________________\n",
      "bn5a_branch2c (TimeDistributed) (None, 32, 7, 7, 204 8192        res5a_branch2c[0][0]             \n",
      "__________________________________________________________________________________________________\n",
      "bn5a_branch1 (TimeDistributed)  (None, 32, 7, 7, 204 8192        res5a_branch1[0][0]              \n",
      "__________________________________________________________________________________________________\n",
      "add_14 (Add)                    (None, 32, 7, 7, 204 0           bn5a_branch2c[0][0]              \n",
      "                                                                 bn5a_branch1[0][0]               \n",
      "__________________________________________________________________________________________________\n",
      "activation_43 (Activation)      (None, 32, 7, 7, 204 0           add_14[0][0]                     \n",
      "__________________________________________________________________________________________________\n",
      "res5b_branch2a (TimeDistributed (None, 32, 7, 7, 512 1049088     activation_43[0][0]              \n",
      "__________________________________________________________________________________________________\n",
      "bn5b_branch2a (TimeDistributed) (None, 32, 7, 7, 512 2048        res5b_branch2a[0][0]             \n",
      "__________________________________________________________________________________________________\n",
      "activation_44 (Activation)      (None, 32, 7, 7, 512 0           bn5b_branch2a[0][0]              \n",
      "__________________________________________________________________________________________________\n",
      "res5b_branch2b (TimeDistributed (None, 32, 7, 7, 512 2359808     activation_44[0][0]              \n",
      "__________________________________________________________________________________________________\n",
      "bn5b_branch2b (TimeDistributed) (None, 32, 7, 7, 512 2048        res5b_branch2b[0][0]             \n",
      "__________________________________________________________________________________________________\n",
      "activation_45 (Activation)      (None, 32, 7, 7, 512 0           bn5b_branch2b[0][0]              \n",
      "__________________________________________________________________________________________________\n",
      "res5b_branch2c (TimeDistributed (None, 32, 7, 7, 204 1050624     activation_45[0][0]              \n",
      "__________________________________________________________________________________________________\n",
      "bn5b_branch2c (TimeDistributed) (None, 32, 7, 7, 204 8192        res5b_branch2c[0][0]             \n",
      "__________________________________________________________________________________________________\n",
      "add_15 (Add)                    (None, 32, 7, 7, 204 0           bn5b_branch2c[0][0]              \n",
      "                                                                 activation_43[0][0]              \n",
      "__________________________________________________________________________________________________\n",
      "activation_46 (Activation)      (None, 32, 7, 7, 204 0           add_15[0][0]                     \n",
      "__________________________________________________________________________________________________\n",
      "res5c_branch2a (TimeDistributed (None, 32, 7, 7, 512 1049088     activation_46[0][0]              \n",
      "__________________________________________________________________________________________________\n",
      "bn5c_branch2a (TimeDistributed) (None, 32, 7, 7, 512 2048        res5c_branch2a[0][0]             \n",
      "__________________________________________________________________________________________________\n",
      "activation_47 (Activation)      (None, 32, 7, 7, 512 0           bn5c_branch2a[0][0]              \n",
      "__________________________________________________________________________________________________\n",
      "res5c_branch2b (TimeDistributed (None, 32, 7, 7, 512 2359808     activation_47[0][0]              \n",
      "__________________________________________________________________________________________________\n",
      "bn5c_branch2b (TimeDistributed) (None, 32, 7, 7, 512 2048        res5c_branch2b[0][0]             \n",
      "__________________________________________________________________________________________________\n",
      "activation_48 (Activation)      (None, 32, 7, 7, 512 0           bn5c_branch2b[0][0]              \n",
      "__________________________________________________________________________________________________\n",
      "res5c_branch2c (TimeDistributed (None, 32, 7, 7, 204 1050624     activation_48[0][0]              \n",
      "__________________________________________________________________________________________________\n",
      "bn5c_branch2c (TimeDistributed) (None, 32, 7, 7, 204 8192        res5c_branch2c[0][0]             \n",
      "__________________________________________________________________________________________________\n",
      "add_16 (Add)                    (None, 32, 7, 7, 204 0           bn5c_branch2c[0][0]              \n",
      "                                                                 activation_46[0][0]              \n",
      "__________________________________________________________________________________________________\n",
      "activation_49 (Activation)      (None, 32, 7, 7, 204 0           add_16[0][0]                     \n",
      "__________________________________________________________________________________________________\n",
      "avg_pool (TimeDistributed)      (None, 32, 1, 1, 204 0           activation_49[0][0]              \n",
      "__________________________________________________________________________________________________\n",
      "time_distributed_1 (TimeDistrib (None, 32, 2048)     0           avg_pool[0][0]                   \n",
      "__________________________________________________________________________________________________\n",
      "dense_class_2 (TimeDistributed) (None, 32, 2)        4098        time_distributed_1[0][0]         \n",
      "__________________________________________________________________________________________________\n",
      "dense_regress_2 (TimeDistribute (None, 32, 4)        8196        time_distributed_1[0][0]         \n",
      "==================================================================================================\n",
      "Total params: 15,010,822\n",
      "Trainable params: 14,965,766\n",
      "Non-trainable params: 45,056\n",
      "__________________________________________________________________________________________________\n"
     ]
    }
   ],
   "source": [
    "model_classifier.summary()"
   ]
  },
  {
   "cell_type": "code",
   "execution_count": 30,
   "metadata": {},
   "outputs": [
    {
     "name": "stdout",
     "output_type": "stream",
     "text": [
      "Model: \"model_2\"\n",
      "__________________________________________________________________________________________________\n",
      "Layer (type)                    Output Shape         Param #     Connected to                     \n",
      "==================================================================================================\n",
      "input_3 (InputLayer)            (None, None, None, 1 0                                            \n",
      "__________________________________________________________________________________________________\n",
      "input_2 (InputLayer)            (None, 32, 4)        0                                            \n",
      "__________________________________________________________________________________________________\n",
      "roi_pooling_conv_1 (RoiPoolingC (None, 32, 14, 14, 1 0           input_3[0][0]                    \n",
      "                                                                 input_2[0][0]                    \n",
      "__________________________________________________________________________________________________\n",
      "res5a_branch2a (TimeDistributed (None, 32, 7, 7, 512 524800      roi_pooling_conv_1[0][0]         \n",
      "__________________________________________________________________________________________________\n",
      "bn5a_branch2a (TimeDistributed) (None, 32, 7, 7, 512 2048        res5a_branch2a[0][0]             \n",
      "__________________________________________________________________________________________________\n",
      "activation_41 (Activation)      (None, 32, 7, 7, 512 0           bn5a_branch2a[0][0]              \n",
      "__________________________________________________________________________________________________\n",
      "res5a_branch2b (TimeDistributed (None, 32, 7, 7, 512 2359808     activation_41[0][0]              \n",
      "__________________________________________________________________________________________________\n",
      "bn5a_branch2b (TimeDistributed) (None, 32, 7, 7, 512 2048        res5a_branch2b[0][0]             \n",
      "__________________________________________________________________________________________________\n",
      "activation_42 (Activation)      (None, 32, 7, 7, 512 0           bn5a_branch2b[0][0]              \n",
      "__________________________________________________________________________________________________\n",
      "res5a_branch2c (TimeDistributed (None, 32, 7, 7, 204 1050624     activation_42[0][0]              \n",
      "__________________________________________________________________________________________________\n",
      "res5a_branch1 (TimeDistributed) (None, 32, 7, 7, 204 2099200     roi_pooling_conv_1[0][0]         \n",
      "__________________________________________________________________________________________________\n",
      "bn5a_branch2c (TimeDistributed) (None, 32, 7, 7, 204 8192        res5a_branch2c[0][0]             \n",
      "__________________________________________________________________________________________________\n",
      "bn5a_branch1 (TimeDistributed)  (None, 32, 7, 7, 204 8192        res5a_branch1[0][0]              \n",
      "__________________________________________________________________________________________________\n",
      "add_14 (Add)                    (None, 32, 7, 7, 204 0           bn5a_branch2c[0][0]              \n",
      "                                                                 bn5a_branch1[0][0]               \n",
      "__________________________________________________________________________________________________\n",
      "activation_43 (Activation)      (None, 32, 7, 7, 204 0           add_14[0][0]                     \n",
      "__________________________________________________________________________________________________\n",
      "res5b_branch2a (TimeDistributed (None, 32, 7, 7, 512 1049088     activation_43[0][0]              \n",
      "__________________________________________________________________________________________________\n",
      "bn5b_branch2a (TimeDistributed) (None, 32, 7, 7, 512 2048        res5b_branch2a[0][0]             \n",
      "__________________________________________________________________________________________________\n",
      "activation_44 (Activation)      (None, 32, 7, 7, 512 0           bn5b_branch2a[0][0]              \n",
      "__________________________________________________________________________________________________\n",
      "res5b_branch2b (TimeDistributed (None, 32, 7, 7, 512 2359808     activation_44[0][0]              \n",
      "__________________________________________________________________________________________________\n",
      "bn5b_branch2b (TimeDistributed) (None, 32, 7, 7, 512 2048        res5b_branch2b[0][0]             \n",
      "__________________________________________________________________________________________________\n",
      "activation_45 (Activation)      (None, 32, 7, 7, 512 0           bn5b_branch2b[0][0]              \n",
      "__________________________________________________________________________________________________\n",
      "res5b_branch2c (TimeDistributed (None, 32, 7, 7, 204 1050624     activation_45[0][0]              \n",
      "__________________________________________________________________________________________________\n",
      "bn5b_branch2c (TimeDistributed) (None, 32, 7, 7, 204 8192        res5b_branch2c[0][0]             \n",
      "__________________________________________________________________________________________________\n",
      "add_15 (Add)                    (None, 32, 7, 7, 204 0           bn5b_branch2c[0][0]              \n",
      "                                                                 activation_43[0][0]              \n",
      "__________________________________________________________________________________________________\n",
      "activation_46 (Activation)      (None, 32, 7, 7, 204 0           add_15[0][0]                     \n",
      "__________________________________________________________________________________________________\n",
      "res5c_branch2a (TimeDistributed (None, 32, 7, 7, 512 1049088     activation_46[0][0]              \n",
      "__________________________________________________________________________________________________\n",
      "bn5c_branch2a (TimeDistributed) (None, 32, 7, 7, 512 2048        res5c_branch2a[0][0]             \n",
      "__________________________________________________________________________________________________\n",
      "activation_47 (Activation)      (None, 32, 7, 7, 512 0           bn5c_branch2a[0][0]              \n",
      "__________________________________________________________________________________________________\n",
      "res5c_branch2b (TimeDistributed (None, 32, 7, 7, 512 2359808     activation_47[0][0]              \n",
      "__________________________________________________________________________________________________\n",
      "bn5c_branch2b (TimeDistributed) (None, 32, 7, 7, 512 2048        res5c_branch2b[0][0]             \n",
      "__________________________________________________________________________________________________\n",
      "activation_48 (Activation)      (None, 32, 7, 7, 512 0           bn5c_branch2b[0][0]              \n",
      "__________________________________________________________________________________________________\n",
      "res5c_branch2c (TimeDistributed (None, 32, 7, 7, 204 1050624     activation_48[0][0]              \n",
      "__________________________________________________________________________________________________\n",
      "bn5c_branch2c (TimeDistributed) (None, 32, 7, 7, 204 8192        res5c_branch2c[0][0]             \n",
      "__________________________________________________________________________________________________\n",
      "add_16 (Add)                    (None, 32, 7, 7, 204 0           bn5c_branch2c[0][0]              \n",
      "                                                                 activation_46[0][0]              \n",
      "__________________________________________________________________________________________________\n",
      "activation_49 (Activation)      (None, 32, 7, 7, 204 0           add_16[0][0]                     \n",
      "__________________________________________________________________________________________________\n",
      "avg_pool (TimeDistributed)      (None, 32, 1, 1, 204 0           activation_49[0][0]              \n",
      "__________________________________________________________________________________________________\n",
      "time_distributed_1 (TimeDistrib (None, 32, 2048)     0           avg_pool[0][0]                   \n",
      "__________________________________________________________________________________________________\n",
      "dense_class_2 (TimeDistributed) (None, 32, 2)        4098        time_distributed_1[0][0]         \n",
      "__________________________________________________________________________________________________\n",
      "dense_regress_2 (TimeDistribute (None, 32, 4)        8196        time_distributed_1[0][0]         \n",
      "==================================================================================================\n",
      "Total params: 15,010,822\n",
      "Trainable params: 14,965,766\n",
      "Non-trainable params: 45,056\n",
      "__________________________________________________________________________________________________\n"
     ]
    }
   ],
   "source": [
    "model_classifier_only.summary()"
   ]
  },
  {
   "cell_type": "code",
   "execution_count": 31,
   "metadata": {},
   "outputs": [
    {
     "name": "stdout",
     "output_type": "stream",
     "text": [
      "Parsing annotation files\n"
     ]
    }
   ],
   "source": [
    "test_imgs, _, _ = get_data(test_path)"
   ]
  },
  {
   "cell_type": "code",
   "execution_count": 32,
   "metadata": {},
   "outputs": [],
   "source": [
    "from matplotlib import pyplot as plt\n",
    "from sklearn.metrics import precision_recall_curve"
   ]
  },
  {
   "cell_type": "code",
   "execution_count": 33,
   "metadata": {},
   "outputs": [],
   "source": [
    "def append_predict_result(model_eval_result,image_id,predict_bbox,gt_bbox,iou_threshold,t,p,iou,ap,mAP):\n",
    "    model_eval_result_1 = model_eval_result.append({\"ImageID\":image_id, \"predict_bbox\":predict_bbox, \"gt_bbox\": gt_bbox, \"IoU_threshold\":iou_threshold,\"T\":t, \"P\":p, \"IoU\":iou, \"ap\":ap,\"mAP\":mAP},ignore_index= True) \n",
    "    return model_eval_result_1"
   ]
  },
  {
   "cell_type": "code",
   "execution_count": 34,
   "metadata": {},
   "outputs": [],
   "source": [
    "def evaluate_model(test_imgs,iou_threshold,C,model_rpn,model_classifier_only,model_evaluation_report_name):\n",
    "    begin = time.time()\n",
    "    T = {}\n",
    "    P = {}\n",
    "    iou_result = 0\n",
    "    \n",
    "    # store the test results\n",
    "    model_eval_result = pd.DataFrame(columns=[\"ImageID\",\"predict_bbox\",\"gt_bbox\",\"IoU_threshold\",\"T\",\"P\",\"IoU\",\"ap\",\"mAP\"])\n",
    "    \n",
    "    for idx, img_data in enumerate(test_imgs):\n",
    "        print('{}/{}'.format(idx + 1,len(test_imgs)))\n",
    "        st = time.time()\n",
    "        filepath = img_data['filepath']\n",
    "\n",
    "        img = cv2.imread(filepath)\n",
    "\n",
    "        X, fx, fy = format_img_config_based(img, C)\n",
    "\n",
    "        if K.common.image_dim_ordering() == 'tf':\n",
    "            X = np.transpose(X, (0, 2, 3, 1))\n",
    "\n",
    "        # get the feature maps and output from the RPN\n",
    "        [Y1, Y2, F] = model_rpn.predict(X)\n",
    "\n",
    "\n",
    "        R = roi_helpers.rpn_to_roi(Y1, Y2, C, K.common.image_dim_ordering(), overlap_thresh= iou_threshold)\n",
    "\n",
    "\n",
    "        # convert from (x1,y1,x2,y2) to (x,y,w,h)\n",
    "        R[:, 2] -= R[:, 0]\n",
    "        R[:, 3] -= R[:, 1]\n",
    "\n",
    "        # apply the spatial pyramid pooling to the proposed regions\n",
    "        bboxes = {}\n",
    "        probs = {}\n",
    "\n",
    "        for jk in range(R.shape[0] // C.num_rois + 1):\n",
    "            ROIs = np.expand_dims(R[C.num_rois * jk:C.num_rois * (jk + 1), :], axis=0)\n",
    "            if ROIs.shape[1] == 0:\n",
    "                break\n",
    "\n",
    "            if jk == R.shape[0] // C.num_rois:\n",
    "                # pad R\n",
    "                curr_shape = ROIs.shape\n",
    "                target_shape = (curr_shape[0], C.num_rois, curr_shape[2])\n",
    "                ROIs_padded = np.zeros(target_shape).astype(ROIs.dtype)\n",
    "                ROIs_padded[:, :curr_shape[1], :] = ROIs\n",
    "                ROIs_padded[0, curr_shape[1]:, :] = ROIs[0, 0, :]\n",
    "                ROIs = ROIs_padded\n",
    "\n",
    "            [P_cls, P_regr] = model_classifier_only.predict([F, ROIs])\n",
    "\n",
    "            for ii in range(P_cls.shape[1]):\n",
    "\n",
    "                if np.argmax(P_cls[0, ii, :]) == (P_cls.shape[2] - 1):\n",
    "                    continue\n",
    "\n",
    "                cls_name = class_mapping[np.argmax(P_cls[0, ii, :])]\n",
    "\n",
    "                if cls_name not in bboxes:\n",
    "                    bboxes[cls_name] = []\n",
    "                    probs[cls_name] = []\n",
    "\n",
    "                (x, y, w, h) = ROIs[0, ii, :]\n",
    "\n",
    "                cls_num = np.argmax(P_cls[0, ii, :])\n",
    "                try:\n",
    "                    (tx, ty, tw, th) = P_regr[0, ii, 4 * cls_num:4 * (cls_num + 1)]\n",
    "                    tx /= C.classifier_regr_std[0]\n",
    "                    ty /= C.classifier_regr_std[1]\n",
    "                    tw /= C.classifier_regr_std[2]\n",
    "                    th /= C.classifier_regr_std[3]\n",
    "                    x, y, w, h = roi_helpers.apply_regr(x, y, w, h, tx, ty, tw, th)\n",
    "                except:\n",
    "                    pass\n",
    "                bboxes[cls_name].append([16 * x, 16 * y, 16 * (x + w), 16 * (y + h)])\n",
    "                probs[cls_name].append(np.max(P_cls[0, ii, :]))\n",
    "\n",
    "        all_dets = []\n",
    "\n",
    "        for key in bboxes:\n",
    "            bbox = np.array(bboxes[key])\n",
    "\n",
    "            new_boxes, new_probs = roi_helpers.non_max_suppression_fast(bbox, np.array(probs[key]), overlap_thresh= iou_threshold)\n",
    "            for jk in range(new_boxes.shape[0]):\n",
    "                (x1, y1, x2, y2) = new_boxes[jk, :]\n",
    "                det = {'x1': x1, 'x2': x2, 'y1': y1, 'y2': y2, 'class': key, 'prob': new_probs[jk]}\n",
    "                all_dets.append(det)\n",
    "\n",
    "\n",
    "        print('Elapsed time = {}'.format(time.time() - st))\n",
    "        t, p, iou = get_map(all_dets, img_data['bboxes'], (fx, fy))\n",
    "        iou_result += iou\n",
    "        for key in t.keys():\n",
    "            print(f'key = {key}')\n",
    "            if key not in T:\n",
    "                T[key] = []\n",
    "                P[key] = []\n",
    "            T[key].extend(t[key])\n",
    "            P[key].extend(p[key])\n",
    "        all_aps = []\n",
    "        for key in T.keys():\n",
    "            ap = average_precision_score(T[key], P[key])\n",
    "            print('{} AP: {}'.format(key, ap))\n",
    "            all_aps.append(ap)\n",
    "        print('mAP = {}'.format(np.mean(np.array(all_aps))))\n",
    "        mAP = np.mean(np.array(all_aps))\n",
    "        model_eval_result = append_predict_result(model_eval_result,filepath,all_dets,img_data['bboxes'],iou_threshold,T,P,iou,all_aps,mAP)\n",
    "        \n",
    "        print(T)\n",
    "        print(P)\n",
    "    print('Completely Elapsed time = {}'.format(time.time() - begin))\n",
    "    iou_mean = iou_result/len(test_imgs)\n",
    "    print(f'IoU@{iou_threshold} = ' + str(iou_mean))\n",
    "    model_eval_result.to_csv(model_evaluation_report_name)\n",
    "    print(f'###### saved model evaluation report {model_evaluation_report_name}')\n",
    "    return model_eval_result,iou_mean"
   ]
  },
  {
   "cell_type": "code",
   "execution_count": 35,
   "metadata": {},
   "outputs": [],
   "source": [
    "def show_model_evaluation_result(model_eval_result,iou_threshold,class_name,xlabel,ylabel,title,save_fig_name):\n",
    "    print(f'###### displaying the model evaluation result for object class = {class_name} @iou_threshold = {iou_threshold}')\n",
    "    T = model_eval_result['T']\n",
    "    T_New = T[0][class_name]\n",
    "    print(f'###### True probability = {T_New}')\n",
    "    P = model_eval_result['P']\n",
    "    P_New = P[0][class_name]\n",
    "    print(f'###### Predict probability = {P_New}')\n",
    "    y_true = np.array(T_New)\n",
    "    y_scores = np.array(P_New)\n",
    "    precision, recall, thresholds = precision_recall_curve(y_true, y_scores)\n",
    "    show_evaluation_plot(recall,precision,xlabel,ylabel,title,save_fig_name)"
   ]
  },
  {
   "cell_type": "code",
   "execution_count": 36,
   "metadata": {},
   "outputs": [],
   "source": [
    "def show_evaluation_plot(recall, precision, xlabel, ylabel, title, save_fig_name):\n",
    "    plt.figure(1)\n",
    "    plt.plot(recall, precision)\n",
    "    plt.xlabel(xlabel)\n",
    "    plt.ylabel(ylabel)\n",
    "    plt.title(title)\n",
    "    plt.savefig(save_fig_name)"
   ]
  },
  {
   "cell_type": "code",
   "execution_count": 37,
   "metadata": {},
   "outputs": [
    {
     "name": "stdout",
     "output_type": "stream",
     "text": [
      "1/5\n",
      "Elapsed time = 7.519188642501831\n",
      "[]\n",
      "[]\n",
      "key = train\n",
      "train AP: 1.0\n",
      "mAP = 1.0\n",
      "{'train': [1]}\n",
      "{'train': [0]}\n",
      "2/5\n",
      "Elapsed time = 2.812056541442871\n",
      "[]\n",
      "[]\n",
      "key = train\n",
      "train AP: 1.0\n",
      "mAP = 1.0\n",
      "{'train': [1, 1]}\n",
      "{'train': [0, 0]}\n",
      "3/5\n",
      "Elapsed time = 2.9016549587249756\n",
      "[{'x1': 32, 'x2': 496, 'y1': 0, 'y2': 224, 'class': 'train', 'prob': 0.8180797}]\n",
      "[0.8180797]\n",
      "IoU = 0.0\n",
      "key = train\n",
      "train AP: 0.75\n",
      "mAP = 0.75\n",
      "{'train': [1, 1, 0, 1]}\n",
      "{'train': [0, 0, 0.8180797, 0]}\n",
      "4/5\n",
      "Elapsed time = 3.0040805339813232\n",
      "[]\n",
      "[]\n",
      "key = train\n",
      "train AP: 0.8\n",
      "mAP = 0.8\n",
      "{'train': [1, 1, 0, 1, 1]}\n",
      "{'train': [0, 0, 0.8180797, 0, 0]}\n",
      "5/5\n",
      "Elapsed time = 3.8440613746643066\n",
      "[]\n",
      "[]\n",
      "key = train\n",
      "train AP: 0.8333333333333334\n",
      "mAP = 0.8333333333333334\n",
      "{'train': [1, 1, 0, 1, 1, 1]}\n",
      "{'train': [0, 0, 0.8180797, 0, 0, 0]}\n",
      "Completely Elapsed time = 20.15444779396057\n",
      "IoU@0.5 = 0.0\n",
      "###### saved model evaluation report ./model_evaluation_results/COCO-YTBB/TRAIN_CLASS/y2bb_images_coco_weights_train_evaluation_result_iou_0.5_small_images.csv\n"
     ]
    }
   ],
   "source": [
    "iou_threshold = 0.50\n",
    "model_evaluation_report_name = './model_evaluation_results/COCO-YTBB/TRAIN_CLASS/y2bb_images_coco_weights_train_evaluation_result_iou_' + str(iou_threshold) + '_small_images.csv'\n",
    "model_eval_result, IoU = evaluate_model(test_imgs, iou_threshold, C, model_rpn, model_classifier_only,model_evaluation_report_name)"
   ]
  },
  {
   "cell_type": "code",
   "execution_count": 38,
   "metadata": {},
   "outputs": [
    {
     "data": {
      "text/html": [
       "<div>\n",
       "<style scoped>\n",
       "    .dataframe tbody tr th:only-of-type {\n",
       "        vertical-align: middle;\n",
       "    }\n",
       "\n",
       "    .dataframe tbody tr th {\n",
       "        vertical-align: top;\n",
       "    }\n",
       "\n",
       "    .dataframe thead th {\n",
       "        text-align: right;\n",
       "    }\n",
       "</style>\n",
       "<table border=\"1\" class=\"dataframe\">\n",
       "  <thead>\n",
       "    <tr style=\"text-align: right;\">\n",
       "      <th></th>\n",
       "      <th>ImageID</th>\n",
       "      <th>predict_bbox</th>\n",
       "      <th>gt_bbox</th>\n",
       "      <th>IoU_threshold</th>\n",
       "      <th>T</th>\n",
       "      <th>P</th>\n",
       "      <th>IoU</th>\n",
       "      <th>ap</th>\n",
       "      <th>mAP</th>\n",
       "    </tr>\n",
       "  </thead>\n",
       "  <tbody>\n",
       "    <tr>\n",
       "      <th>0</th>\n",
       "      <td>Y2BB_extracted_dataset/train_for_test_small/15...</td>\n",
       "      <td>[]</td>\n",
       "      <td>[{'class': 'train', 'x1': 76.16000000000001, '...</td>\n",
       "      <td>0.5</td>\n",
       "      <td>{'train': [1, 1, 0, 1, 1, 1]}</td>\n",
       "      <td>{'train': [0, 0, 0.8180797, 0, 0, 0]}</td>\n",
       "      <td>0</td>\n",
       "      <td>[1.0]</td>\n",
       "      <td>1.000000</td>\n",
       "    </tr>\n",
       "    <tr>\n",
       "      <th>1</th>\n",
       "      <td>Y2BB_extracted_dataset/train_for_test_small/15...</td>\n",
       "      <td>[]</td>\n",
       "      <td>[{'class': 'train', 'x1': 135.35999999999999, ...</td>\n",
       "      <td>0.5</td>\n",
       "      <td>{'train': [1, 1, 0, 1, 1, 1]}</td>\n",
       "      <td>{'train': [0, 0, 0.8180797, 0, 0, 0]}</td>\n",
       "      <td>0</td>\n",
       "      <td>[1.0]</td>\n",
       "      <td>1.000000</td>\n",
       "    </tr>\n",
       "    <tr>\n",
       "      <th>2</th>\n",
       "      <td>Y2BB_extracted_dataset/train_for_test_small/15...</td>\n",
       "      <td>[{'x1': 32, 'x2': 496, 'y1': 0, 'y2': 224, 'cl...</td>\n",
       "      <td>[{'class': 'train', 'x1': 118.08000000000001, ...</td>\n",
       "      <td>0.5</td>\n",
       "      <td>{'train': [1, 1, 0, 1, 1, 1]}</td>\n",
       "      <td>{'train': [0, 0, 0.8180797, 0, 0, 0]}</td>\n",
       "      <td>0</td>\n",
       "      <td>[0.75]</td>\n",
       "      <td>0.750000</td>\n",
       "    </tr>\n",
       "    <tr>\n",
       "      <th>3</th>\n",
       "      <td>Y2BB_extracted_dataset/train_for_test_small/15...</td>\n",
       "      <td>[]</td>\n",
       "      <td>[{'class': 'train', 'x1': 145.6, 'x2': 174.4, ...</td>\n",
       "      <td>0.5</td>\n",
       "      <td>{'train': [1, 1, 0, 1, 1, 1]}</td>\n",
       "      <td>{'train': [0, 0, 0.8180797, 0, 0, 0]}</td>\n",
       "      <td>0</td>\n",
       "      <td>[0.8]</td>\n",
       "      <td>0.800000</td>\n",
       "    </tr>\n",
       "    <tr>\n",
       "      <th>4</th>\n",
       "      <td>Y2BB_extracted_dataset/train_for_test_small/15...</td>\n",
       "      <td>[]</td>\n",
       "      <td>[{'class': 'train', 'x1': 283.2, 'x2': 304.8, ...</td>\n",
       "      <td>0.5</td>\n",
       "      <td>{'train': [1, 1, 0, 1, 1, 1]}</td>\n",
       "      <td>{'train': [0, 0, 0.8180797, 0, 0, 0]}</td>\n",
       "      <td>0</td>\n",
       "      <td>[0.8333333333333334]</td>\n",
       "      <td>0.833333</td>\n",
       "    </tr>\n",
       "  </tbody>\n",
       "</table>\n",
       "</div>"
      ],
      "text/plain": [
       "                                             ImageID  \\\n",
       "0  Y2BB_extracted_dataset/train_for_test_small/15...   \n",
       "1  Y2BB_extracted_dataset/train_for_test_small/15...   \n",
       "2  Y2BB_extracted_dataset/train_for_test_small/15...   \n",
       "3  Y2BB_extracted_dataset/train_for_test_small/15...   \n",
       "4  Y2BB_extracted_dataset/train_for_test_small/15...   \n",
       "\n",
       "                                        predict_bbox  \\\n",
       "0                                                 []   \n",
       "1                                                 []   \n",
       "2  [{'x1': 32, 'x2': 496, 'y1': 0, 'y2': 224, 'cl...   \n",
       "3                                                 []   \n",
       "4                                                 []   \n",
       "\n",
       "                                             gt_bbox  IoU_threshold  \\\n",
       "0  [{'class': 'train', 'x1': 76.16000000000001, '...            0.5   \n",
       "1  [{'class': 'train', 'x1': 135.35999999999999, ...            0.5   \n",
       "2  [{'class': 'train', 'x1': 118.08000000000001, ...            0.5   \n",
       "3  [{'class': 'train', 'x1': 145.6, 'x2': 174.4, ...            0.5   \n",
       "4  [{'class': 'train', 'x1': 283.2, 'x2': 304.8, ...            0.5   \n",
       "\n",
       "                               T                                      P IoU  \\\n",
       "0  {'train': [1, 1, 0, 1, 1, 1]}  {'train': [0, 0, 0.8180797, 0, 0, 0]}   0   \n",
       "1  {'train': [1, 1, 0, 1, 1, 1]}  {'train': [0, 0, 0.8180797, 0, 0, 0]}   0   \n",
       "2  {'train': [1, 1, 0, 1, 1, 1]}  {'train': [0, 0, 0.8180797, 0, 0, 0]}   0   \n",
       "3  {'train': [1, 1, 0, 1, 1, 1]}  {'train': [0, 0, 0.8180797, 0, 0, 0]}   0   \n",
       "4  {'train': [1, 1, 0, 1, 1, 1]}  {'train': [0, 0, 0.8180797, 0, 0, 0]}   0   \n",
       "\n",
       "                     ap       mAP  \n",
       "0                 [1.0]  1.000000  \n",
       "1                 [1.0]  1.000000  \n",
       "2                [0.75]  0.750000  \n",
       "3                 [0.8]  0.800000  \n",
       "4  [0.8333333333333334]  0.833333  "
      ]
     },
     "execution_count": 38,
     "metadata": {},
     "output_type": "execute_result"
    }
   ],
   "source": [
    "model_eval_result"
   ]
  },
  {
   "cell_type": "code",
   "execution_count": 39,
   "metadata": {},
   "outputs": [
    {
     "name": "stdout",
     "output_type": "stream",
     "text": [
      " IoU @ 0.5 threshold = 0.0\n"
     ]
    }
   ],
   "source": [
    "print(f' IoU @ {iou_threshold} threshold = {IoU}')"
   ]
  },
  {
   "cell_type": "code",
   "execution_count": 40,
   "metadata": {},
   "outputs": [
    {
     "name": "stdout",
     "output_type": "stream",
     "text": [
      "###### displaying the model evaluation result for object class = train @iou_threshold = 0.5\n",
      "###### True probability = [1, 1, 0, 1, 1, 1]\n",
      "###### Predict probability = [0, 0, 0.8180797, 0, 0, 0]\n"
     ]
    },
    {
     "data": {
      "image/png": "[encoded data removed]",
      "text/plain": [
       "<Figure size 432x288 with 1 Axes>"
      ]
     },
     "metadata": {
      "needs_background": "light"
     },
     "output_type": "display_data"
    }
   ],
   "source": [
    "class_name='train'\n",
    "xlabel = 'Recall'\n",
    "ylabel = 'Precision'\n",
    "title = 'Y2BB Images COCO Weights - Train Precision/Recall Curve -small_images @' + str(iou_threshold)\n",
    "save_fig_name = './model_evaluation_results/COCO-YTBB/TRAIN_CLASS/y2bb_images_coco_weights_train_evaluation_result-PrecisionVsRecall_iou@' + str(iou_threshold) + '_small_images.png'\n",
    "show_model_evaluation_result(model_eval_result,iou_threshold,class_name,xlabel,ylabel,title,save_fig_name)"
   ]
  },
  {
   "cell_type": "code",
   "execution_count": 41,
   "metadata": {},
   "outputs": [
    {
     "name": "stdout",
     "output_type": "stream",
     "text": [
      "1/5\n",
      "Elapsed time = 3.4915060997009277\n",
      "[{'x1': 176, 'x2': 560, 'y1': 48, 'y2': 400, 'class': 'train', 'prob': 0.5042877}]\n",
      "[0.5042877]\n",
      "IoU = 0.0\n",
      "key = train\n",
      "train AP: 0.5\n",
      "mAP = 0.5\n",
      "{'train': [0, 1]}\n",
      "{'train': [0.5042877, 0]}\n",
      "2/5\n",
      "Elapsed time = 3.608751058578491\n",
      "[]\n",
      "[]\n",
      "key = train\n",
      "train AP: 0.6666666666666666\n",
      "mAP = 0.6666666666666666\n",
      "{'train': [0, 1, 1]}\n",
      "{'train': [0.5042877, 0, 0]}\n",
      "3/5\n",
      "Elapsed time = 3.838146924972534\n",
      "[{'x1': -32, 'x2': 592, 'y1': -16, 'y2': 352, 'class': 'train', 'prob': 0.8370471}, {'x1': 32, 'x2': 496, 'y1': 0, 'y2': 224, 'class': 'train', 'prob': 0.8180797}, {'x1': 32, 'x2': 480, 'y1': -32, 'y2': 336, 'class': 'train', 'prob': 0.7914677}, {'x1': 0, 'x2': 448, 'y1': 0, 'y2': 160, 'class': 'train', 'prob': 0.75388134}, {'x1': 0, 'x2': 416, 'y1': -16, 'y2': 288, 'class': 'train', 'prob': 0.64652556}, {'x1': 16, 'x2': 384, 'y1': -16, 'y2': 208, 'class': 'train', 'prob': 0.6429989}, {'x1': 0, 'x2': 512, 'y1': 0, 'y2': 112, 'class': 'train', 'prob': 0.5607381}]\n",
      "[0.8370471  0.8180797  0.7914677  0.75388134 0.64652556 0.6429989\n",
      " 0.5607381 ]\n",
      "IoU = 0.002860324581509279\n",
      "IoU = 0.0\n",
      "IoU = 0.0039840235242382515\n",
      "IoU = 0.0\n",
      "IoU = 0.005193747266406293\n",
      "IoU = 0.0\n",
      "IoU = 0.0\n",
      "key = train\n",
      "train AP: 0.2727272727272727\n",
      "mAP = 0.2727272727272727\n",
      "{'train': [0, 1, 1, 0, 0, 0, 0, 0, 0, 0, 1]}\n",
      "{'train': [0.5042877, 0, 0, 0.8370471, 0.8180797, 0.7914677, 0.75388134, 0.64652556, 0.6429989, 0.5607381, 0]}\n",
      "4/5\n",
      "Elapsed time = 4.078885078430176\n",
      "[]\n",
      "[]\n",
      "key = train\n",
      "train AP: 0.3333333333333333\n",
      "mAP = 0.3333333333333333\n",
      "{'train': [0, 1, 1, 0, 0, 0, 0, 0, 0, 0, 1, 1]}\n",
      "{'train': [0.5042877, 0, 0, 0.8370471, 0.8180797, 0.7914677, 0.75388134, 0.64652556, 0.6429989, 0.5607381, 0, 0]}\n",
      "5/5\n",
      "Elapsed time = 4.266059160232544\n",
      "[]\n",
      "[]\n",
      "key = train\n",
      "train AP: 0.38461538461538464\n",
      "mAP = 0.38461538461538464\n",
      "{'train': [0, 1, 1, 0, 0, 0, 0, 0, 0, 0, 1, 1, 1]}\n",
      "{'train': [0.5042877, 0, 0, 0.8370471, 0.8180797, 0.7914677, 0.75388134, 0.64652556, 0.6429989, 0.5607381, 0, 0, 0]}\n",
      "Completely Elapsed time = 19.377456665039062\n",
      "IoU@0.75 = 0.0024076190744307647\n",
      "###### saved model evaluation report ./model_evaluation_results/COCO-YTBB/TRAIN_CLASS/y2bb_images_coco_weights_train_evaluation_result_iou_0.75_small_images.csv\n"
     ]
    }
   ],
   "source": [
    "iou_threshold = 0.75\n",
    "model_evaluation_report_name = './model_evaluation_results/COCO-YTBB/TRAIN_CLASS/y2bb_images_coco_weights_train_evaluation_result_iou_' + str(iou_threshold) + '_small_images.csv'\n",
    "model_eval_result_1,IoU_1 = evaluate_model(test_imgs, iou_threshold, C, model_rpn, model_classifier_only,model_evaluation_report_name)"
   ]
  },
  {
   "cell_type": "code",
   "execution_count": 42,
   "metadata": {},
   "outputs": [
    {
     "data": {
      "text/html": [
       "<div>\n",
       "<style scoped>\n",
       "    .dataframe tbody tr th:only-of-type {\n",
       "        vertical-align: middle;\n",
       "    }\n",
       "\n",
       "    .dataframe tbody tr th {\n",
       "        vertical-align: top;\n",
       "    }\n",
       "\n",
       "    .dataframe thead th {\n",
       "        text-align: right;\n",
       "    }\n",
       "</style>\n",
       "<table border=\"1\" class=\"dataframe\">\n",
       "  <thead>\n",
       "    <tr style=\"text-align: right;\">\n",
       "      <th></th>\n",
       "      <th>ImageID</th>\n",
       "      <th>predict_bbox</th>\n",
       "      <th>gt_bbox</th>\n",
       "      <th>IoU_threshold</th>\n",
       "      <th>T</th>\n",
       "      <th>P</th>\n",
       "      <th>IoU</th>\n",
       "      <th>ap</th>\n",
       "      <th>mAP</th>\n",
       "    </tr>\n",
       "  </thead>\n",
       "  <tbody>\n",
       "    <tr>\n",
       "      <th>0</th>\n",
       "      <td>Y2BB_extracted_dataset/train_for_test_small/15...</td>\n",
       "      <td>[{'x1': 176, 'x2': 560, 'y1': 48, 'y2': 400, '...</td>\n",
       "      <td>[{'class': 'train', 'x1': 76.16000000000001, '...</td>\n",
       "      <td>0.75</td>\n",
       "      <td>{'train': [0, 1, 1, 0, 0, 0, 0, 0, 0, 0, 1, 1,...</td>\n",
       "      <td>{'train': [0.5042877, 0, 0, 0.8370471, 0.81807...</td>\n",
       "      <td>0.000000</td>\n",
       "      <td>[0.5]</td>\n",
       "      <td>0.500000</td>\n",
       "    </tr>\n",
       "    <tr>\n",
       "      <th>1</th>\n",
       "      <td>Y2BB_extracted_dataset/train_for_test_small/15...</td>\n",
       "      <td>[]</td>\n",
       "      <td>[{'class': 'train', 'x1': 135.35999999999999, ...</td>\n",
       "      <td>0.75</td>\n",
       "      <td>{'train': [0, 1, 1, 0, 0, 0, 0, 0, 0, 0, 1, 1,...</td>\n",
       "      <td>{'train': [0.5042877, 0, 0, 0.8370471, 0.81807...</td>\n",
       "      <td>0.000000</td>\n",
       "      <td>[0.6666666666666666]</td>\n",
       "      <td>0.666667</td>\n",
       "    </tr>\n",
       "    <tr>\n",
       "      <th>2</th>\n",
       "      <td>Y2BB_extracted_dataset/train_for_test_small/15...</td>\n",
       "      <td>[{'x1': -32, 'x2': 592, 'y1': -16, 'y2': 352, ...</td>\n",
       "      <td>[{'class': 'train', 'x1': 118.08000000000001, ...</td>\n",
       "      <td>0.75</td>\n",
       "      <td>{'train': [0, 1, 1, 0, 0, 0, 0, 0, 0, 0, 1, 1,...</td>\n",
       "      <td>{'train': [0.5042877, 0, 0, 0.8370471, 0.81807...</td>\n",
       "      <td>0.012038</td>\n",
       "      <td>[0.2727272727272727]</td>\n",
       "      <td>0.272727</td>\n",
       "    </tr>\n",
       "    <tr>\n",
       "      <th>3</th>\n",
       "      <td>Y2BB_extracted_dataset/train_for_test_small/15...</td>\n",
       "      <td>[]</td>\n",
       "      <td>[{'class': 'train', 'x1': 145.6, 'x2': 174.4, ...</td>\n",
       "      <td>0.75</td>\n",
       "      <td>{'train': [0, 1, 1, 0, 0, 0, 0, 0, 0, 0, 1, 1,...</td>\n",
       "      <td>{'train': [0.5042877, 0, 0, 0.8370471, 0.81807...</td>\n",
       "      <td>0.000000</td>\n",
       "      <td>[0.3333333333333333]</td>\n",
       "      <td>0.333333</td>\n",
       "    </tr>\n",
       "    <tr>\n",
       "      <th>4</th>\n",
       "      <td>Y2BB_extracted_dataset/train_for_test_small/15...</td>\n",
       "      <td>[]</td>\n",
       "      <td>[{'class': 'train', 'x1': 283.2, 'x2': 304.8, ...</td>\n",
       "      <td>0.75</td>\n",
       "      <td>{'train': [0, 1, 1, 0, 0, 0, 0, 0, 0, 0, 1, 1,...</td>\n",
       "      <td>{'train': [0.5042877, 0, 0, 0.8370471, 0.81807...</td>\n",
       "      <td>0.000000</td>\n",
       "      <td>[0.38461538461538464]</td>\n",
       "      <td>0.384615</td>\n",
       "    </tr>\n",
       "  </tbody>\n",
       "</table>\n",
       "</div>"
      ],
      "text/plain": [
       "                                             ImageID  \\\n",
       "0  Y2BB_extracted_dataset/train_for_test_small/15...   \n",
       "1  Y2BB_extracted_dataset/train_for_test_small/15...   \n",
       "2  Y2BB_extracted_dataset/train_for_test_small/15...   \n",
       "3  Y2BB_extracted_dataset/train_for_test_small/15...   \n",
       "4  Y2BB_extracted_dataset/train_for_test_small/15...   \n",
       "\n",
       "                                        predict_bbox  \\\n",
       "0  [{'x1': 176, 'x2': 560, 'y1': 48, 'y2': 400, '...   \n",
       "1                                                 []   \n",
       "2  [{'x1': -32, 'x2': 592, 'y1': -16, 'y2': 352, ...   \n",
       "3                                                 []   \n",
       "4                                                 []   \n",
       "\n",
       "                                             gt_bbox  IoU_threshold  \\\n",
       "0  [{'class': 'train', 'x1': 76.16000000000001, '...           0.75   \n",
       "1  [{'class': 'train', 'x1': 135.35999999999999, ...           0.75   \n",
       "2  [{'class': 'train', 'x1': 118.08000000000001, ...           0.75   \n",
       "3  [{'class': 'train', 'x1': 145.6, 'x2': 174.4, ...           0.75   \n",
       "4  [{'class': 'train', 'x1': 283.2, 'x2': 304.8, ...           0.75   \n",
       "\n",
       "                                                   T  \\\n",
       "0  {'train': [0, 1, 1, 0, 0, 0, 0, 0, 0, 0, 1, 1,...   \n",
       "1  {'train': [0, 1, 1, 0, 0, 0, 0, 0, 0, 0, 1, 1,...   \n",
       "2  {'train': [0, 1, 1, 0, 0, 0, 0, 0, 0, 0, 1, 1,...   \n",
       "3  {'train': [0, 1, 1, 0, 0, 0, 0, 0, 0, 0, 1, 1,...   \n",
       "4  {'train': [0, 1, 1, 0, 0, 0, 0, 0, 0, 0, 1, 1,...   \n",
       "\n",
       "                                                   P       IoU  \\\n",
       "0  {'train': [0.5042877, 0, 0, 0.8370471, 0.81807...  0.000000   \n",
       "1  {'train': [0.5042877, 0, 0, 0.8370471, 0.81807...  0.000000   \n",
       "2  {'train': [0.5042877, 0, 0, 0.8370471, 0.81807...  0.012038   \n",
       "3  {'train': [0.5042877, 0, 0, 0.8370471, 0.81807...  0.000000   \n",
       "4  {'train': [0.5042877, 0, 0, 0.8370471, 0.81807...  0.000000   \n",
       "\n",
       "                      ap       mAP  \n",
       "0                  [0.5]  0.500000  \n",
       "1   [0.6666666666666666]  0.666667  \n",
       "2   [0.2727272727272727]  0.272727  \n",
       "3   [0.3333333333333333]  0.333333  \n",
       "4  [0.38461538461538464]  0.384615  "
      ]
     },
     "execution_count": 42,
     "metadata": {},
     "output_type": "execute_result"
    }
   ],
   "source": [
    "model_eval_result_1"
   ]
  },
  {
   "cell_type": "code",
   "execution_count": 43,
   "metadata": {},
   "outputs": [
    {
     "name": "stdout",
     "output_type": "stream",
     "text": [
      " IoU @ 0.75 threshold = 0.0024076190744307647\n"
     ]
    }
   ],
   "source": [
    "print(f' IoU @ {iou_threshold} threshold = {IoU_1}')"
   ]
  },
  {
   "cell_type": "code",
   "execution_count": 44,
   "metadata": {},
   "outputs": [
    {
     "name": "stdout",
     "output_type": "stream",
     "text": [
      "###### displaying the model evaluation result for object class = train @iou_threshold = 0.75\n",
      "###### True probability = [0, 1, 1, 0, 0, 0, 0, 0, 0, 0, 1, 1, 1]\n",
      "###### Predict probability = [0.5042877, 0, 0, 0.8370471, 0.8180797, 0.7914677, 0.75388134, 0.64652556, 0.6429989, 0.5607381, 0, 0, 0]\n"
     ]
    },
    {
     "data": {
      "image/png": "[encoded data removed]",
      "text/plain": [
       "<Figure size 432x288 with 1 Axes>"
      ]
     },
     "metadata": {
      "needs_background": "light"
     },
     "output_type": "display_data"
    }
   ],
   "source": [
    "class_name='train'\n",
    "xlabel = 'Recall'\n",
    "ylabel = 'Precision'\n",
    "title = 'Y2BB Images COCO Weights - Train Precision/Recall Curve -small_images @' + str(iou_threshold)\n",
    "save_fig_name = './model_evaluation_results/COCO-YTBB/TRAIN_CLASS/y2bb_images_coco_weights_train_evaluation_result-PrecisionVsRecall_iou@' + str(iou_threshold) + '_small_images.png'\n",
    "show_model_evaluation_result(model_eval_result_1,iou_threshold,class_name,xlabel,ylabel,title,save_fig_name)"
   ]
  },
  {
   "cell_type": "markdown",
   "metadata": {},
   "source": [
    "#### Evaluation results for COCO-YTBB with 10 epoch trained weights @Iou 50% and 75%"
   ]
  },
  {
   "cell_type": "code",
   "execution_count": 45,
   "metadata": {},
   "outputs": [
    {
     "name": "stdout",
     "output_type": "stream",
     "text": [
      "Loading weights from ./model_weights/COCO/coco_model_frcnn_train_vehicle_v1_0009.hdf5\n"
     ]
    }
   ],
   "source": [
    "try:\n",
    "\tC.model_path = './model_weights/COCO/coco_model_frcnn_train_vehicle_v1_0009.hdf5'\n",
    "\tprint(f'Loading weights from {C.model_path}')\n",
    "\tmodel_rpn.load_weights(C.model_path, by_name=True)\n",
    "\tmodel_classifier.load_weights(C.model_path, by_name=True)    \n",
    "\t#model_rpn.load_weights('./resnet50_weights_tf_dim_ordering_tf_kernels_notop.h5', by_name=True)\n",
    "\t#model_classifier.load_weights('./resnet50_weights_tf_dim_ordering_tf_kernels_notop.h5', by_name=True)\n",
    "except Exception as e:\n",
    "\tprint(f'Couldnt load pre-trained model due to {repr(e)}')"
   ]
  },
  {
   "cell_type": "code",
   "execution_count": 46,
   "metadata": {},
   "outputs": [],
   "source": [
    "model_rpn.compile(optimizer='sgd', loss='mse')\n",
    "model_classifier_only.compile(optimizer='sgd', loss='mse')\n",
    "model_classifier.compile(optimizer='sgd', loss='mse')"
   ]
  },
  {
   "cell_type": "code",
   "execution_count": 47,
   "metadata": {},
   "outputs": [
    {
     "name": "stdout",
     "output_type": "stream",
     "text": [
      "1/5\n",
      "Elapsed time = 7.611046552658081\n",
      "[{'x1': 272, 'x2': 544, 'y1': 16, 'y2': 416, 'class': 'train', 'prob': 0.81167334}]\n",
      "[0.81167334]\n",
      "IoU = 0.0\n",
      "key = train\n",
      "train AP: 0.5\n",
      "mAP = 0.5\n",
      "{'train': [0, 1]}\n",
      "{'train': [0.81167334, 0]}\n",
      "2/5\n",
      "Elapsed time = 3.9193458557128906\n",
      "[]\n",
      "[]\n",
      "key = train\n",
      "train AP: 0.6666666666666666\n",
      "mAP = 0.6666666666666666\n",
      "{'train': [0, 1, 1]}\n",
      "{'train': [0.81167334, 0, 0]}\n",
      "3/5\n",
      "Elapsed time = 4.4329609870910645\n",
      "[{'x1': 128, 'x2': 592, 'y1': 176, 'y2': 336, 'class': 'train', 'prob': 0.93493366}, {'x1': 0, 'x2': 352, 'y1': 0, 'y2': 208, 'class': 'train', 'prob': 0.5102269}]\n",
      "[0.93493366 0.5102269 ]\n",
      "IoU = 0.008847279826173922\n",
      "IoU = 0.0\n",
      "key = train\n",
      "train AP: 0.5\n",
      "mAP = 0.5\n",
      "{'train': [0, 1, 1, 0, 0, 1]}\n",
      "{'train': [0.81167334, 0, 0, 0.93493366, 0.5102269, 0]}\n",
      "4/5\n",
      "Elapsed time = 4.4341206550598145\n",
      "[{'x1': 16, 'x2': 208, 'y1': 32, 'y2': 368, 'class': 'train', 'prob': 0.87900627}]\n",
      "[0.87900627]\n",
      "IoU = 0.0\n",
      "key = train\n",
      "train AP: 0.5\n",
      "mAP = 0.5\n",
      "{'train': [0, 1, 1, 0, 0, 1, 0, 1]}\n",
      "{'train': [0.81167334, 0, 0, 0.93493366, 0.5102269, 0, 0.87900627, 0]}\n",
      "5/5\n",
      "Elapsed time = 5.176285743713379\n",
      "[{'x1': 304, 'x2': 512, 'y1': -16, 'y2': 336, 'class': 'train', 'prob': 0.8025852}]\n",
      "[0.8025852]\n",
      "IoU = 0.01369261127538118\n",
      "key = train\n",
      "train AP: 0.5\n",
      "mAP = 0.5\n",
      "{'train': [0, 1, 1, 0, 0, 1, 0, 1, 0, 1]}\n",
      "{'train': [0.81167334, 0, 0, 0.93493366, 0.5102269, 0, 0.87900627, 0, 0.8025852, 0]}\n",
      "Completely Elapsed time = 25.697972059249878\n",
      "IoU@0.5 = 0.0045079782203110205\n",
      "###### saved model evaluation report ./model_evaluation_results/COCO-YTBB/TRAIN_CLASS/y2bb_images_coco_weights_train_evaluation_result_iou_0.5_small_images_10Epoch.csv\n"
     ]
    }
   ],
   "source": [
    "iou_threshold = 0.50\n",
    "model_evaluation_report_name = './model_evaluation_results/COCO-YTBB/TRAIN_CLASS/y2bb_images_coco_weights_train_evaluation_result_iou_' + str(iou_threshold) + '_small_images_10Epoch.csv'\n",
    "model_eval_result, IoU = evaluate_model(test_imgs, iou_threshold, C, model_rpn, model_classifier_only,model_evaluation_report_name)"
   ]
  },
  {
   "cell_type": "code",
   "execution_count": 48,
   "metadata": {},
   "outputs": [
    {
     "data": {
      "text/html": [
       "<div>\n",
       "<style scoped>\n",
       "    .dataframe tbody tr th:only-of-type {\n",
       "        vertical-align: middle;\n",
       "    }\n",
       "\n",
       "    .dataframe tbody tr th {\n",
       "        vertical-align: top;\n",
       "    }\n",
       "\n",
       "    .dataframe thead th {\n",
       "        text-align: right;\n",
       "    }\n",
       "</style>\n",
       "<table border=\"1\" class=\"dataframe\">\n",
       "  <thead>\n",
       "    <tr style=\"text-align: right;\">\n",
       "      <th></th>\n",
       "      <th>ImageID</th>\n",
       "      <th>predict_bbox</th>\n",
       "      <th>gt_bbox</th>\n",
       "      <th>IoU_threshold</th>\n",
       "      <th>T</th>\n",
       "      <th>P</th>\n",
       "      <th>IoU</th>\n",
       "      <th>ap</th>\n",
       "      <th>mAP</th>\n",
       "    </tr>\n",
       "  </thead>\n",
       "  <tbody>\n",
       "    <tr>\n",
       "      <th>0</th>\n",
       "      <td>Y2BB_extracted_dataset/train_for_test_small/15...</td>\n",
       "      <td>[{'x1': 272, 'x2': 544, 'y1': 16, 'y2': 416, '...</td>\n",
       "      <td>[{'class': 'train', 'x1': 76.16000000000001, '...</td>\n",
       "      <td>0.5</td>\n",
       "      <td>{'train': [0, 1, 1, 0, 0, 1, 0, 1, 0, 1]}</td>\n",
       "      <td>{'train': [0.81167334, 0, 0, 0.93493366, 0.510...</td>\n",
       "      <td>0.000000</td>\n",
       "      <td>[0.5]</td>\n",
       "      <td>0.500000</td>\n",
       "    </tr>\n",
       "    <tr>\n",
       "      <th>1</th>\n",
       "      <td>Y2BB_extracted_dataset/train_for_test_small/15...</td>\n",
       "      <td>[]</td>\n",
       "      <td>[{'class': 'train', 'x1': 135.35999999999999, ...</td>\n",
       "      <td>0.5</td>\n",
       "      <td>{'train': [0, 1, 1, 0, 0, 1, 0, 1, 0, 1]}</td>\n",
       "      <td>{'train': [0.81167334, 0, 0, 0.93493366, 0.510...</td>\n",
       "      <td>0.000000</td>\n",
       "      <td>[0.6666666666666666]</td>\n",
       "      <td>0.666667</td>\n",
       "    </tr>\n",
       "    <tr>\n",
       "      <th>2</th>\n",
       "      <td>Y2BB_extracted_dataset/train_for_test_small/15...</td>\n",
       "      <td>[{'x1': 128, 'x2': 592, 'y1': 176, 'y2': 336, ...</td>\n",
       "      <td>[{'class': 'train', 'x1': 118.08000000000001, ...</td>\n",
       "      <td>0.5</td>\n",
       "      <td>{'train': [0, 1, 1, 0, 0, 1, 0, 1, 0, 1]}</td>\n",
       "      <td>{'train': [0.81167334, 0, 0, 0.93493366, 0.510...</td>\n",
       "      <td>0.008847</td>\n",
       "      <td>[0.5]</td>\n",
       "      <td>0.500000</td>\n",
       "    </tr>\n",
       "    <tr>\n",
       "      <th>3</th>\n",
       "      <td>Y2BB_extracted_dataset/train_for_test_small/15...</td>\n",
       "      <td>[{'x1': 16, 'x2': 208, 'y1': 32, 'y2': 368, 'c...</td>\n",
       "      <td>[{'class': 'train', 'x1': 145.6, 'x2': 174.4, ...</td>\n",
       "      <td>0.5</td>\n",
       "      <td>{'train': [0, 1, 1, 0, 0, 1, 0, 1, 0, 1]}</td>\n",
       "      <td>{'train': [0.81167334, 0, 0, 0.93493366, 0.510...</td>\n",
       "      <td>0.000000</td>\n",
       "      <td>[0.5]</td>\n",
       "      <td>0.500000</td>\n",
       "    </tr>\n",
       "    <tr>\n",
       "      <th>4</th>\n",
       "      <td>Y2BB_extracted_dataset/train_for_test_small/15...</td>\n",
       "      <td>[{'x1': 304, 'x2': 512, 'y1': -16, 'y2': 336, ...</td>\n",
       "      <td>[{'class': 'train', 'x1': 283.2, 'x2': 304.8, ...</td>\n",
       "      <td>0.5</td>\n",
       "      <td>{'train': [0, 1, 1, 0, 0, 1, 0, 1, 0, 1]}</td>\n",
       "      <td>{'train': [0.81167334, 0, 0, 0.93493366, 0.510...</td>\n",
       "      <td>0.013693</td>\n",
       "      <td>[0.5]</td>\n",
       "      <td>0.500000</td>\n",
       "    </tr>\n",
       "  </tbody>\n",
       "</table>\n",
       "</div>"
      ],
      "text/plain": [
       "                                             ImageID  \\\n",
       "0  Y2BB_extracted_dataset/train_for_test_small/15...   \n",
       "1  Y2BB_extracted_dataset/train_for_test_small/15...   \n",
       "2  Y2BB_extracted_dataset/train_for_test_small/15...   \n",
       "3  Y2BB_extracted_dataset/train_for_test_small/15...   \n",
       "4  Y2BB_extracted_dataset/train_for_test_small/15...   \n",
       "\n",
       "                                        predict_bbox  \\\n",
       "0  [{'x1': 272, 'x2': 544, 'y1': 16, 'y2': 416, '...   \n",
       "1                                                 []   \n",
       "2  [{'x1': 128, 'x2': 592, 'y1': 176, 'y2': 336, ...   \n",
       "3  [{'x1': 16, 'x2': 208, 'y1': 32, 'y2': 368, 'c...   \n",
       "4  [{'x1': 304, 'x2': 512, 'y1': -16, 'y2': 336, ...   \n",
       "\n",
       "                                             gt_bbox  IoU_threshold  \\\n",
       "0  [{'class': 'train', 'x1': 76.16000000000001, '...            0.5   \n",
       "1  [{'class': 'train', 'x1': 135.35999999999999, ...            0.5   \n",
       "2  [{'class': 'train', 'x1': 118.08000000000001, ...            0.5   \n",
       "3  [{'class': 'train', 'x1': 145.6, 'x2': 174.4, ...            0.5   \n",
       "4  [{'class': 'train', 'x1': 283.2, 'x2': 304.8, ...            0.5   \n",
       "\n",
       "                                           T  \\\n",
       "0  {'train': [0, 1, 1, 0, 0, 1, 0, 1, 0, 1]}   \n",
       "1  {'train': [0, 1, 1, 0, 0, 1, 0, 1, 0, 1]}   \n",
       "2  {'train': [0, 1, 1, 0, 0, 1, 0, 1, 0, 1]}   \n",
       "3  {'train': [0, 1, 1, 0, 0, 1, 0, 1, 0, 1]}   \n",
       "4  {'train': [0, 1, 1, 0, 0, 1, 0, 1, 0, 1]}   \n",
       "\n",
       "                                                   P       IoU  \\\n",
       "0  {'train': [0.81167334, 0, 0, 0.93493366, 0.510...  0.000000   \n",
       "1  {'train': [0.81167334, 0, 0, 0.93493366, 0.510...  0.000000   \n",
       "2  {'train': [0.81167334, 0, 0, 0.93493366, 0.510...  0.008847   \n",
       "3  {'train': [0.81167334, 0, 0, 0.93493366, 0.510...  0.000000   \n",
       "4  {'train': [0.81167334, 0, 0, 0.93493366, 0.510...  0.013693   \n",
       "\n",
       "                     ap       mAP  \n",
       "0                 [0.5]  0.500000  \n",
       "1  [0.6666666666666666]  0.666667  \n",
       "2                 [0.5]  0.500000  \n",
       "3                 [0.5]  0.500000  \n",
       "4                 [0.5]  0.500000  "
      ]
     },
     "execution_count": 48,
     "metadata": {},
     "output_type": "execute_result"
    }
   ],
   "source": [
    "model_eval_result"
   ]
  },
  {
   "cell_type": "code",
   "execution_count": 49,
   "metadata": {},
   "outputs": [
    {
     "name": "stdout",
     "output_type": "stream",
     "text": [
      " IoU @ 0.5 threshold = 0.0045079782203110205\n"
     ]
    }
   ],
   "source": [
    "print(f' IoU @ {iou_threshold} threshold = {IoU}')"
   ]
  },
  {
   "cell_type": "code",
   "execution_count": 50,
   "metadata": {},
   "outputs": [
    {
     "name": "stdout",
     "output_type": "stream",
     "text": [
      "###### displaying the model evaluation result for object class = train @iou_threshold = 0.5\n",
      "###### True probability = [0, 1, 1, 0, 0, 1, 0, 1, 0, 1]\n",
      "###### Predict probability = [0.81167334, 0, 0, 0.93493366, 0.5102269, 0, 0.87900627, 0, 0.8025852, 0]\n"
     ]
    },
    {
     "data": {
      "image/png": "[encoded data removed]",
      "text/plain": [
       "<Figure size 432x288 with 1 Axes>"
      ]
     },
     "metadata": {
      "needs_background": "light"
     },
     "output_type": "display_data"
    }
   ],
   "source": [
    "class_name='train'\n",
    "xlabel = 'Recall'\n",
    "ylabel = 'Precision'\n",
    "title = 'Y2BB Train Precision/Recall Curve -small_images@' + str(iou_threshold)\n",
    "save_fig_name = './model_evaluation_results/COCO-YTBB/TRAIN_CLASS/y2bb_images_coco_weights_train_evaluation_result-PrecisionVsRecall_iou@' + str(iou_threshold) + '_small_images_10Epoch.png'\n",
    "show_model_evaluation_result(model_eval_result,iou_threshold,class_name,xlabel,ylabel,title,save_fig_name)"
   ]
  },
  {
   "cell_type": "code",
   "execution_count": 51,
   "metadata": {},
   "outputs": [
    {
     "name": "stdout",
     "output_type": "stream",
     "text": [
      "1/5\n",
      "Elapsed time = 4.308774709701538\n",
      "[{'x1': 272, 'x2': 544, 'y1': 16, 'y2': 416, 'class': 'train', 'prob': 0.81167334}, {'x1': 208, 'x2': 528, 'y1': 32, 'y2': 384, 'class': 'train', 'prob': 0.6769449}]\n",
      "[0.81167334 0.6769449 ]\n",
      "IoU = 0.0\n",
      "IoU = 0.0\n",
      "key = train\n",
      "train AP: 0.3333333333333333\n",
      "mAP = 0.3333333333333333\n",
      "{'train': [0, 0, 1]}\n",
      "{'train': [0.81167334, 0.6769449, 0]}\n",
      "2/5\n",
      "Elapsed time = 4.552096366882324\n",
      "[]\n",
      "[]\n",
      "key = train\n",
      "train AP: 0.5\n",
      "mAP = 0.5\n",
      "{'train': [0, 0, 1, 1]}\n",
      "{'train': [0.81167334, 0.6769449, 0, 0]}\n",
      "3/5\n",
      "Elapsed time = 4.717597723007202\n",
      "[{'x1': 128, 'x2': 560, 'y1': 176, 'y2': 352, 'class': 'train', 'prob': 0.9696997}, {'x1': 144, 'x2': 560, 'y1': 192, 'y2': 384, 'class': 'train', 'prob': 0.6787736}, {'x1': 0, 'x2': 384, 'y1': 0, 'y2': 192, 'class': 'train', 'prob': 0.63635516}, {'x1': 80, 'x2': 560, 'y1': 144, 'y2': 368, 'class': 'train', 'prob': 0.6308928}, {'x1': 0, 'x2': 464, 'y1': 0, 'y2': 160, 'class': 'train', 'prob': 0.54609716}]\n",
      "[0.9696997  0.6787736  0.63635516 0.6308928  0.54609716]\n",
      "IoU = 0.008638758079431824\n",
      "IoU = 0.005663810607684134\n",
      "IoU = 0.0\n",
      "IoU = 0.006108836070478891\n",
      "IoU = 0.0\n",
      "key = train\n",
      "train AP: 0.3\n",
      "mAP = 0.3\n",
      "{'train': [0, 0, 1, 1, 0, 0, 0, 0, 0, 1]}\n",
      "{'train': [0.81167334, 0.6769449, 0, 0, 0.9696997, 0.6787736, 0.63635516, 0.6308928, 0.54609716, 0]}\n",
      "4/5\n",
      "Elapsed time = 4.8758697509765625\n",
      "[{'x1': 16, 'x2': 192, 'y1': 32, 'y2': 352, 'class': 'train', 'prob': 0.96551895}, {'x1': 16, 'x2': 224, 'y1': 32, 'y2': 304, 'class': 'train', 'prob': 0.9439891}]\n",
      "[0.96551895 0.9439891 ]\n",
      "IoU = 0.0\n",
      "IoU = 0.0\n",
      "key = train\n",
      "train AP: 0.3076923076923077\n",
      "mAP = 0.3076923076923077\n",
      "{'train': [0, 0, 1, 1, 0, 0, 0, 0, 0, 1, 0, 0, 1]}\n",
      "{'train': [0.81167334, 0.6769449, 0, 0, 0.9696997, 0.6787736, 0.63635516, 0.6308928, 0.54609716, 0, 0.96551895, 0.9439891, 0]}\n",
      "5/5\n",
      "Elapsed time = 5.039313316345215\n",
      "[{'x1': 304, 'x2': 512, 'y1': -32, 'y2': 336, 'class': 'train', 'prob': 0.8450617}]\n",
      "[0.8450617]\n",
      "IoU = 0.013097280350372385\n",
      "key = train\n",
      "train AP: 0.3333333333333333\n",
      "mAP = 0.3333333333333333\n",
      "{'train': [0, 0, 1, 1, 0, 0, 0, 0, 0, 1, 0, 0, 1, 0, 1]}\n",
      "{'train': [0.81167334, 0.6769449, 0, 0, 0.9696997, 0.6787736, 0.63635516, 0.6308928, 0.54609716, 0, 0.96551895, 0.9439891, 0, 0.8450617, 0]}\n",
      "Completely Elapsed time = 23.59695816040039\n",
      "IoU@0.75 = 0.006701737021593447\n",
      "###### saved model evaluation report ./model_evaluation_results/COCO-YTBB/TRAIN_CLASS/y2bb_images_coco_weights_train_evaluation_result_iou_0.75_small_images_10Epoch.csv\n"
     ]
    }
   ],
   "source": [
    "iou_threshold = 0.75\n",
    "model_evaluation_report_name = './model_evaluation_results/COCO-YTBB/TRAIN_CLASS/y2bb_images_coco_weights_train_evaluation_result_iou_' + str(iou_threshold) + '_small_images_10Epoch.csv'\n",
    "model_eval_result_1, IoU_1 = evaluate_model(test_imgs, iou_threshold, C, model_rpn, model_classifier_only,model_evaluation_report_name)"
   ]
  },
  {
   "cell_type": "code",
   "execution_count": 52,
   "metadata": {},
   "outputs": [
    {
     "data": {
      "text/html": [
       "<div>\n",
       "<style scoped>\n",
       "    .dataframe tbody tr th:only-of-type {\n",
       "        vertical-align: middle;\n",
       "    }\n",
       "\n",
       "    .dataframe tbody tr th {\n",
       "        vertical-align: top;\n",
       "    }\n",
       "\n",
       "    .dataframe thead th {\n",
       "        text-align: right;\n",
       "    }\n",
       "</style>\n",
       "<table border=\"1\" class=\"dataframe\">\n",
       "  <thead>\n",
       "    <tr style=\"text-align: right;\">\n",
       "      <th></th>\n",
       "      <th>ImageID</th>\n",
       "      <th>predict_bbox</th>\n",
       "      <th>gt_bbox</th>\n",
       "      <th>IoU_threshold</th>\n",
       "      <th>T</th>\n",
       "      <th>P</th>\n",
       "      <th>IoU</th>\n",
       "      <th>ap</th>\n",
       "      <th>mAP</th>\n",
       "    </tr>\n",
       "  </thead>\n",
       "  <tbody>\n",
       "    <tr>\n",
       "      <th>0</th>\n",
       "      <td>Y2BB_extracted_dataset/train_for_test_small/15...</td>\n",
       "      <td>[{'x1': 272, 'x2': 544, 'y1': 16, 'y2': 416, '...</td>\n",
       "      <td>[{'class': 'train', 'x1': 76.16000000000001, '...</td>\n",
       "      <td>0.75</td>\n",
       "      <td>{'train': [0, 0, 1, 1, 0, 0, 0, 0, 0, 1, 0, 0,...</td>\n",
       "      <td>{'train': [0.81167334, 0.6769449, 0, 0, 0.9696...</td>\n",
       "      <td>0.000000</td>\n",
       "      <td>[0.3333333333333333]</td>\n",
       "      <td>0.333333</td>\n",
       "    </tr>\n",
       "    <tr>\n",
       "      <th>1</th>\n",
       "      <td>Y2BB_extracted_dataset/train_for_test_small/15...</td>\n",
       "      <td>[]</td>\n",
       "      <td>[{'class': 'train', 'x1': 135.35999999999999, ...</td>\n",
       "      <td>0.75</td>\n",
       "      <td>{'train': [0, 0, 1, 1, 0, 0, 0, 0, 0, 1, 0, 0,...</td>\n",
       "      <td>{'train': [0.81167334, 0.6769449, 0, 0, 0.9696...</td>\n",
       "      <td>0.000000</td>\n",
       "      <td>[0.5]</td>\n",
       "      <td>0.500000</td>\n",
       "    </tr>\n",
       "    <tr>\n",
       "      <th>2</th>\n",
       "      <td>Y2BB_extracted_dataset/train_for_test_small/15...</td>\n",
       "      <td>[{'x1': 128, 'x2': 560, 'y1': 176, 'y2': 352, ...</td>\n",
       "      <td>[{'class': 'train', 'x1': 118.08000000000001, ...</td>\n",
       "      <td>0.75</td>\n",
       "      <td>{'train': [0, 0, 1, 1, 0, 0, 0, 0, 0, 1, 0, 0,...</td>\n",
       "      <td>{'train': [0.81167334, 0.6769449, 0, 0, 0.9696...</td>\n",
       "      <td>0.020411</td>\n",
       "      <td>[0.3]</td>\n",
       "      <td>0.300000</td>\n",
       "    </tr>\n",
       "    <tr>\n",
       "      <th>3</th>\n",
       "      <td>Y2BB_extracted_dataset/train_for_test_small/15...</td>\n",
       "      <td>[{'x1': 16, 'x2': 192, 'y1': 32, 'y2': 352, 'c...</td>\n",
       "      <td>[{'class': 'train', 'x1': 145.6, 'x2': 174.4, ...</td>\n",
       "      <td>0.75</td>\n",
       "      <td>{'train': [0, 0, 1, 1, 0, 0, 0, 0, 0, 1, 0, 0,...</td>\n",
       "      <td>{'train': [0.81167334, 0.6769449, 0, 0, 0.9696...</td>\n",
       "      <td>0.000000</td>\n",
       "      <td>[0.3076923076923077]</td>\n",
       "      <td>0.307692</td>\n",
       "    </tr>\n",
       "    <tr>\n",
       "      <th>4</th>\n",
       "      <td>Y2BB_extracted_dataset/train_for_test_small/15...</td>\n",
       "      <td>[{'x1': 304, 'x2': 512, 'y1': -32, 'y2': 336, ...</td>\n",
       "      <td>[{'class': 'train', 'x1': 283.2, 'x2': 304.8, ...</td>\n",
       "      <td>0.75</td>\n",
       "      <td>{'train': [0, 0, 1, 1, 0, 0, 0, 0, 0, 1, 0, 0,...</td>\n",
       "      <td>{'train': [0.81167334, 0.6769449, 0, 0, 0.9696...</td>\n",
       "      <td>0.013097</td>\n",
       "      <td>[0.3333333333333333]</td>\n",
       "      <td>0.333333</td>\n",
       "    </tr>\n",
       "  </tbody>\n",
       "</table>\n",
       "</div>"
      ],
      "text/plain": [
       "                                             ImageID  \\\n",
       "0  Y2BB_extracted_dataset/train_for_test_small/15...   \n",
       "1  Y2BB_extracted_dataset/train_for_test_small/15...   \n",
       "2  Y2BB_extracted_dataset/train_for_test_small/15...   \n",
       "3  Y2BB_extracted_dataset/train_for_test_small/15...   \n",
       "4  Y2BB_extracted_dataset/train_for_test_small/15...   \n",
       "\n",
       "                                        predict_bbox  \\\n",
       "0  [{'x1': 272, 'x2': 544, 'y1': 16, 'y2': 416, '...   \n",
       "1                                                 []   \n",
       "2  [{'x1': 128, 'x2': 560, 'y1': 176, 'y2': 352, ...   \n",
       "3  [{'x1': 16, 'x2': 192, 'y1': 32, 'y2': 352, 'c...   \n",
       "4  [{'x1': 304, 'x2': 512, 'y1': -32, 'y2': 336, ...   \n",
       "\n",
       "                                             gt_bbox  IoU_threshold  \\\n",
       "0  [{'class': 'train', 'x1': 76.16000000000001, '...           0.75   \n",
       "1  [{'class': 'train', 'x1': 135.35999999999999, ...           0.75   \n",
       "2  [{'class': 'train', 'x1': 118.08000000000001, ...           0.75   \n",
       "3  [{'class': 'train', 'x1': 145.6, 'x2': 174.4, ...           0.75   \n",
       "4  [{'class': 'train', 'x1': 283.2, 'x2': 304.8, ...           0.75   \n",
       "\n",
       "                                                   T  \\\n",
       "0  {'train': [0, 0, 1, 1, 0, 0, 0, 0, 0, 1, 0, 0,...   \n",
       "1  {'train': [0, 0, 1, 1, 0, 0, 0, 0, 0, 1, 0, 0,...   \n",
       "2  {'train': [0, 0, 1, 1, 0, 0, 0, 0, 0, 1, 0, 0,...   \n",
       "3  {'train': [0, 0, 1, 1, 0, 0, 0, 0, 0, 1, 0, 0,...   \n",
       "4  {'train': [0, 0, 1, 1, 0, 0, 0, 0, 0, 1, 0, 0,...   \n",
       "\n",
       "                                                   P       IoU  \\\n",
       "0  {'train': [0.81167334, 0.6769449, 0, 0, 0.9696...  0.000000   \n",
       "1  {'train': [0.81167334, 0.6769449, 0, 0, 0.9696...  0.000000   \n",
       "2  {'train': [0.81167334, 0.6769449, 0, 0, 0.9696...  0.020411   \n",
       "3  {'train': [0.81167334, 0.6769449, 0, 0, 0.9696...  0.000000   \n",
       "4  {'train': [0.81167334, 0.6769449, 0, 0, 0.9696...  0.013097   \n",
       "\n",
       "                     ap       mAP  \n",
       "0  [0.3333333333333333]  0.333333  \n",
       "1                 [0.5]  0.500000  \n",
       "2                 [0.3]  0.300000  \n",
       "3  [0.3076923076923077]  0.307692  \n",
       "4  [0.3333333333333333]  0.333333  "
      ]
     },
     "execution_count": 52,
     "metadata": {},
     "output_type": "execute_result"
    }
   ],
   "source": [
    "model_eval_result_1"
   ]
  },
  {
   "cell_type": "code",
   "execution_count": 53,
   "metadata": {},
   "outputs": [
    {
     "name": "stdout",
     "output_type": "stream",
     "text": [
      " IoU @ 0.75 threshold = 0.006701737021593447\n"
     ]
    }
   ],
   "source": [
    "print(f' IoU @ {iou_threshold} threshold = {IoU_1}')"
   ]
  },
  {
   "cell_type": "code",
   "execution_count": 54,
   "metadata": {},
   "outputs": [
    {
     "name": "stdout",
     "output_type": "stream",
     "text": [
      "###### displaying the model evaluation result for object class = train @iou_threshold = 0.75\n",
      "###### True probability = [0, 0, 1, 1, 0, 0, 0, 0, 0, 1, 0, 0, 1, 0, 1]\n",
      "###### Predict probability = [0.81167334, 0.6769449, 0, 0, 0.9696997, 0.6787736, 0.63635516, 0.6308928, 0.54609716, 0, 0.96551895, 0.9439891, 0, 0.8450617, 0]\n"
     ]
    },
    {
     "data": {
      "image/png": "[encoded data removed]",
      "text/plain": [
       "<Figure size 432x288 with 1 Axes>"
      ]
     },
     "metadata": {
      "needs_background": "light"
     },
     "output_type": "display_data"
    }
   ],
   "source": [
    "class_name='train'\n",
    "xlabel = 'Recall'\n",
    "ylabel = 'Precision'\n",
    "title = 'Y2BB Train Precision/Recall Curve -small_images@' + str(iou_threshold)\n",
    "save_fig_name = './model_evaluation_results/COCO-YTBB/TRAIN_CLASS/y2bb_images_coco_weights_train_evaluation_result-PrecisionVsRecall_iou@' + str(iou_threshold) + '_small_images_10Epoch.png'\n",
    "show_model_evaluation_result(model_eval_result_1,iou_threshold,class_name,xlabel,ylabel,title,save_fig_name)"
   ]
  }
 ],
 "metadata": {
  "colab": {
   "name": "train_faster_rcnn.ipynb",
   "provenance": []
  },
  "kernelspec": {
   "display_name": "Python 3",
   "language": "python",
   "name": "python3"
  },
  "language_info": {
   "codemirror_mode": {
    "name": "ipython",
    "version": 3
   },
   "file_extension": ".py",
   "mimetype": "text/x-python",
   "name": "python",
   "nbconvert_exporter": "python",
   "pygments_lexer": "ipython3",
   "version": "3.6.13"
  },
  "toc": {
   "base_numbering": 1,
   "nav_menu": {},
   "number_sections": true,
   "sideBar": true,
   "skip_h1_title": false,
   "title_cell": "Table of Contents",
   "title_sidebar": "Contents",
   "toc_cell": false,
   "toc_position": {},
   "toc_section_display": true,
   "toc_window_display": false
  },
  "varInspector": {
   "cols": {
    "lenName": 16,
    "lenType": 16,
    "lenVar": 40
   },
   "kernels_config": {
    "python": {
     "delete_cmd_postfix": "",
     "delete_cmd_prefix": "del ",
     "library": "var_list.py",
     "varRefreshCmd": "print(var_dic_list())"
    },
    "r": {
     "delete_cmd_postfix": ") ",
     "delete_cmd_prefix": "rm(",
     "library": "var_list.r",
     "varRefreshCmd": "cat(var_dic_list()) "
    }
   },
   "types_to_exclude": [
    "module",
    "function",
    "builtin_function_or_method",
    "instance",
    "_Feature"
   ],
   "window_display": false
  }
 },
 "nbformat": 4,
 "nbformat_minor": 1
}
